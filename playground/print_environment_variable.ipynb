{
 "cells": [
  {
   "cell_type": "markdown",
   "id": "658228a9",
   "metadata": {},
   "source": [
    "# Printing an Environment Variable\n",
    "\n",
    "In this notebook, we will print the value of a specific environment variable: `GIT_BOB_LLM_NAME`.\n",
    "\n",
    "First, we need to import the necessary library to work with environment variables."
   ]
  },
  {
   "cell_type": "code",
   "execution_count": 1,
   "id": "f14bb06a",
   "metadata": {
    "execution": {
     "iopub.execute_input": "2024-10-12T11:07:00.437987Z",
     "iopub.status.busy": "2024-10-12T11:07:00.437987Z",
     "iopub.status.idle": "2024-10-12T11:07:00.443129Z",
     "shell.execute_reply": "2024-10-12T11:07:00.443129Z"
    }
   },
   "outputs": [],
   "source": [
    "# Import os module to access environment variables\n",
    "import os"
   ]
  },
  {
   "cell_type": "markdown",
   "id": "7c98387c",
   "metadata": {},
   "source": [
    "After importing the `os` module, we can print the environment variable `GIT_BOB_LLM_NAME`.\n",
    "\n",
    "Let's extract this information and print it."
   ]
  },
  {
   "cell_type": "code",
   "execution_count": 2,
   "id": "8acfbbce",
   "metadata": {
    "execution": {
     "iopub.execute_input": "2024-10-12T11:07:00.445157Z",
     "iopub.status.busy": "2024-10-12T11:07:00.445157Z",
     "iopub.status.idle": "2024-10-12T11:07:00.447594Z",
     "shell.execute_reply": "2024-10-12T11:07:00.447594Z"
    }
   },
   "outputs": [
    {
     "name": "stdout",
     "output_type": "stream",
     "text": [
      "***\n"
     ]
    }
   ],
   "source": [
    "# Print the environment variable GIT_BOB_LLM_NAME\n",
    "print(os.environ[\"GIT_BOB_LLM_NAME\"])"
   ]
  }
 ],
 "metadata": {
  "language_info": {
   "codemirror_mode": {
    "name": "ipython",
    "version": 3
   },
   "file_extension": ".py",
   "mimetype": "text/x-python",
   "name": "python",
   "nbconvert_exporter": "python",
   "pygments_lexer": "ipython3",
   "version": "3.11.10"
  }
 },
 "nbformat": 4,
 "nbformat_minor": 5
}
