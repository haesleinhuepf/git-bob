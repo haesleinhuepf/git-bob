{
 "cells": [
  {
   "cell_type": "markdown",
   "id": "5b7220c2",
   "metadata": {},
   "source": [
    "# Understanding While-Loops in Python\n",
    "\n",
    "A `while` loop in Python allows you to repeatedly execute a block of code as long as a condition is `True`. It is often used when the number of iterations is not known beforehand."
   ]
  },
  {
   "cell_type": "code",
   "execution_count": null,
   "id": "6245fb28",
   "metadata": {},
   "outputs": [],
   "source": [
    "# Example of a while loop\n",
    "count = 0\n",
    "while count < 5:\n",
    "    print(\"Count is\", count)\n",
    "    count += 1"
   ]
  },
  {
   "cell_type": "markdown",
   "id": "b153e185",
   "metadata": {},
   "source": [
    "# Converting Lists to Tuples and Vice Versa\n",
    "\n",
    "Python provides simple functions to convert lists to tuples and vice versa. These conversions can be useful when you need immutable vs mutable data structures."
   ]
  },
  {
   "cell_type": "markdown",
   "id": "8c998aad",
   "metadata": {},
   "source": [
    "## Converting a List to a Tuple\n",
    "\n",
    "To convert a list to a tuple, you can use the `tuple()` function."
   ]
  },
  {
   "cell_type": "code",
   "execution_count": null,
   "id": "385d7ddc",
   "metadata": {},
   "outputs": [],
   "source": [
    "# Define a list\n",
    "my_list = [1, 2, 3, 4]\n",
    "\n",
    "# Convert the list to a tuple\n",
    "my_tuple = tuple(my_list)\n",
    "print(my_tuple)"
   ]
  },
  {
   "cell_type": "markdown",
   "id": "a387948d",
   "metadata": {},
   "source": [
    "## Converting a Tuple to a List\n",
    "\n",
    "To convert a tuple to a list, you can use the `list()` function."
   ]
  },
  {
   "cell_type": "code",
   "execution_count": null,
   "id": "7843ed9b",
   "metadata": {},
   "outputs": [],
   "source": [
    "# Define a tuple\n",
    "my_tuple = (5, 6, 7, 8)\n",
    "\n",
    "# Convert the tuple to a list\n",
    "my_list = list(my_tuple)\n",
    "print(my_list)"
   ]
  }
 ],
 "metadata": {},
 "nbformat": 4,
 "nbformat_minor": 5
}
