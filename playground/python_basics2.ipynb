{
 "cells": [
  {
   "cell_type": "markdown",
   "id": "839d3f28",
   "metadata": {},
   "source": [
    "# Understanding While Loops in Python"
   ]
  },
  {
   "cell_type": "markdown",
   "id": "ba9cb64c",
   "metadata": {},
   "source": [
    "A **while loop** in Python is used to repeatedly execute a block of code as long as the condition is true. The syntax is straightforward:"
   ]
  },
  {
   "cell_type": "code",
   "execution_count": 1,
   "id": "fb483cf6",
   "metadata": {
    "execution": {
     "iopub.execute_input": "2024-10-05T09:23:14.396395Z",
     "iopub.status.busy": "2024-10-05T09:23:14.396206Z",
     "iopub.status.idle": "2024-10-05T09:23:14.400254Z",
     "shell.execute_reply": "2024-10-05T09:23:14.399712Z"
    }
   },
   "outputs": [
    {
     "name": "stdout",
     "output_type": "stream",
     "text": [
      "Count: 0\n",
      "Count: 1\n",
      "Count: 2\n",
      "Count: 3\n",
      "Count: 4\n"
     ]
    }
   ],
   "source": [
    "count = 0\n",
    "while count < 5:\n",
    "    print('Count:', count)\n",
    "    count += 1"
   ]
  },
  {
   "cell_type": "markdown",
   "id": "369e23d4",
   "metadata": {},
   "source": [
    "In this example, the loop will iterate as long as `count` is less than 5, incrementing `count` by 1 each time."
   ]
  },
  {
   "cell_type": "markdown",
   "id": "fc93aef6",
   "metadata": {},
   "source": [
    "# Converting Between Lists and Tuples"
   ]
  },
  {
   "cell_type": "markdown",
   "id": "85c359e6",
   "metadata": {},
   "source": [
    "A **list** is a mutable sequence of items, whereas a **tuple** is immutable. You can convert between them easily."
   ]
  },
  {
   "cell_type": "markdown",
   "id": "5fda3fb9",
   "metadata": {},
   "source": [
    "## Converting a List to a Tuple"
   ]
  },
  {
   "cell_type": "code",
   "execution_count": 2,
   "id": "2d6e4969",
   "metadata": {
    "execution": {
     "iopub.execute_input": "2024-10-05T09:23:14.402318Z",
     "iopub.status.busy": "2024-10-05T09:23:14.401992Z",
     "iopub.status.idle": "2024-10-05T09:23:14.407961Z",
     "shell.execute_reply": "2024-10-05T09:23:14.407502Z"
    }
   },
   "outputs": [
    {
     "data": {
      "text/plain": [
       "(1, 2, 3)"
      ]
     },
     "execution_count": 2,
     "metadata": {},
     "output_type": "execute_result"
    }
   ],
   "source": [
    "my_list = [1, 2, 3]\n",
    "my_tuple = tuple(my_list)\n",
    "my_tuple"
   ]
  },
  {
   "cell_type": "markdown",
   "id": "282679bf",
   "metadata": {},
   "source": [
    "## Converting a Tuple to a List"
   ]
  },
  {
   "cell_type": "code",
   "execution_count": 3,
   "id": "2f788267",
   "metadata": {
    "execution": {
     "iopub.execute_input": "2024-10-05T09:23:14.409868Z",
     "iopub.status.busy": "2024-10-05T09:23:14.409496Z",
     "iopub.status.idle": "2024-10-05T09:23:14.413440Z",
     "shell.execute_reply": "2024-10-05T09:23:14.412902Z"
    }
   },
   "outputs": [
    {
     "data": {
      "text/plain": [
       "[4, 5, 6]"
      ]
     },
     "execution_count": 3,
     "metadata": {},
     "output_type": "execute_result"
    }
   ],
   "source": [
    "my_tuple = (4, 5, 6)\n",
    "my_list = list(my_tuple)\n",
    "my_list"
   ]
  },
  {
   "cell_type": "markdown",
   "id": "2859cf76",
   "metadata": {},
   "source": [
    "This demonstrates the ability to convert between lists and tuples, allowing for flexibility when you need mutable or immutable sequences."
   ]
  }
 ],
 "metadata": {
  "language_info": {
   "codemirror_mode": {
    "name": "ipython",
    "version": 3
   },
   "file_extension": ".py",
   "mimetype": "text/x-python",
   "name": "python",
   "nbconvert_exporter": "python",
   "pygments_lexer": "ipython3",
   "version": "3.12.6"
  }
 },
 "nbformat": 4,
 "nbformat_minor": 5
}
