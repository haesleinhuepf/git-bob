{
 "cells": [
  {
   "cell_type": "markdown",
   "id": "d2280ee2",
   "metadata": {},
   "source": [
    "# Understanding While-Loops\n",
    "\n",
    "A while-loop is used to repeatedly execute a block of code as long as a given condition is true."
   ]
  },
  {
   "cell_type": "code",
   "execution_count": null,
   "id": "fa23ce72",
   "metadata": {},
   "outputs": [],
   "source": [
    "# Simple while-loop example\n",
    "count = 0\n",
    "while count < 5:\n",
    "    print(\"Count is:\", count)\n",
    "    count += 1"
   ]
  },
  {
   "cell_type": "markdown",
   "id": "22488e2b",
   "metadata": {},
   "source": [
    "In the example above, the loop will continue to run as long as `count` is less than 5. Each time through the loop, `count` is increased by 1."
   ]
  },
  {
   "cell_type": "markdown",
   "id": "052c405a",
   "metadata": {},
   "source": [
    "# Converting Lists and Tuples\n",
    "\n",
    "Python provides simple methods to convert lists to tuples and vice versa."
   ]
  },
  {
   "cell_type": "code",
   "execution_count": null,
   "id": "50c13202",
   "metadata": {},
   "outputs": [],
   "source": [
    "# Convert a list to a tuple\n",
    "my_list = [1, 2, 3]\n",
    "my_tuple = tuple(my_list)\n",
    "print(\"Tuple:\", my_tuple)"
   ]
  },
  {
   "cell_type": "markdown",
   "id": "fa382b52",
   "metadata": {},
   "source": [
    "The code above demonstrates converting a list to a tuple using the `tuple()` function."
   ]
  },
  {
   "cell_type": "code",
   "execution_count": null,
   "id": "d496b822",
   "metadata": {},
   "outputs": [],
   "source": [
    "# Convert a tuple to a list\n",
    "another_tuple = (4, 5, 6)\n",
    "another_list = list(another_tuple)\n",
    "print(\"List:\", another_list)"
   ]
  },
  {
   "cell_type": "markdown",
   "id": "657ce0ef",
   "metadata": {},
   "source": [
    "In this example, a tuple is converted back to a list using the `list()` function."
   ]
  }
 ],
 "metadata": {},
 "nbformat": 4,
 "nbformat_minor": 5
}
