{
 "cells": [
  {
   "cell_type": "markdown",
   "id": "ad81ccb5",
   "metadata": {},
   "source": [
    "# Understanding the \"while\" Loop\n",
    "\n",
    "A `while` loop in Python repeatedly executes a target statement as long as a given condition is `True`."
   ]
  },
  {
   "cell_type": "code",
   "execution_count": 1,
   "id": "46744853",
   "metadata": {
    "execution": {
     "iopub.execute_input": "2024-10-05T20:39:17.915792Z",
     "iopub.status.busy": "2024-10-05T20:39:17.915601Z",
     "iopub.status.idle": "2024-10-05T20:39:17.919594Z",
     "shell.execute_reply": "2024-10-05T20:39:17.919136Z"
    }
   },
   "outputs": [
    {
     "name": "stdout",
     "output_type": "stream",
     "text": [
      "Count is: 0\n",
      "Count is: 1\n",
      "Count is: 2\n",
      "Count is: 3\n",
      "Count is: 4\n"
     ]
    }
   ],
   "source": [
    "# Simple `while` loop example\n",
    "count = 0\n",
    "while count < 5:\n",
    "    print(\"Count is:\", count)\n",
    "    count += 1"
   ]
  },
  {
   "cell_type": "markdown",
   "id": "cc4657ce",
   "metadata": {},
   "source": [
    "The loop above will keep printing a line until `count` is less than `5`."
   ]
  },
  {
   "cell_type": "code",
   "execution_count": 2,
   "id": "ac7fb9fd",
   "metadata": {
    "execution": {
     "iopub.execute_input": "2024-10-05T20:39:17.921310Z",
     "iopub.status.busy": "2024-10-05T20:39:17.921131Z",
     "iopub.status.idle": "2024-10-05T20:39:17.924570Z",
     "shell.execute_reply": "2024-10-05T20:39:17.924107Z"
    }
   },
   "outputs": [
    {
     "name": "stdout",
     "output_type": "stream",
     "text": [
      "Count is: 0\n",
      "Count is: 1\n",
      "Count is: 2\n",
      "Count is: 3\n",
      "Count is: 4\n"
     ]
    }
   ],
   "source": [
    "# Breaking out of a `while` loop\n",
    "count = 0\n",
    "while True:\n",
    "    print(\"Count is:\", count)\n",
    "    count += 1\n",
    "    if count >= 5:\n",
    "        break"
   ]
  },
  {
   "cell_type": "markdown",
   "id": "03017b26",
   "metadata": {},
   "source": [
    "The loop above uses `break` to exit the loop when `count` equals `5`."
   ]
  },
  {
   "cell_type": "code",
   "execution_count": 3,
   "id": "82a333ab",
   "metadata": {
    "execution": {
     "iopub.execute_input": "2024-10-05T20:39:17.926348Z",
     "iopub.status.busy": "2024-10-05T20:39:17.926168Z",
     "iopub.status.idle": "2024-10-05T20:39:17.929283Z",
     "shell.execute_reply": "2024-10-05T20:39:17.928823Z"
    }
   },
   "outputs": [
    {
     "name": "stdout",
     "output_type": "stream",
     "text": [
      "Count is: 0\n",
      "Count is: 1\n",
      "Count is: 2\n",
      "Count is: 3\n",
      "Count is: 4\n",
      "Loop ended\n"
     ]
    }
   ],
   "source": [
    "# Using `else` with a `while` loop\n",
    "count = 0\n",
    "while count < 5:\n",
    "    print(\"Count is:\", count)\n",
    "    count += 1\n",
    "else:\n",
    "    print(\"Loop ended\")"
   ]
  },
  {
   "cell_type": "markdown",
   "id": "52ee550c",
   "metadata": {},
   "source": [
    "In the example above, when the loop condition becomes `False`, the code in the `else` block is executed."
   ]
  },
  {
   "cell_type": "code",
   "execution_count": 4,
   "id": "0507ee79",
   "metadata": {
    "execution": {
     "iopub.execute_input": "2024-10-05T20:39:17.930931Z",
     "iopub.status.busy": "2024-10-05T20:39:17.930738Z",
     "iopub.status.idle": "2024-10-05T20:39:18.062570Z",
     "shell.execute_reply": "2024-10-05T20:39:18.061888Z"
    }
   },
   "outputs": [
    {
     "name": "stdout",
     "output_type": "stream",
     "text": [
      "* \u001b[32mmain\u001b[m\r\n"
     ]
    }
   ],
   "source": [
    "!git branch"
   ]
  }
 ],
 "metadata": {
  "language_info": {
   "codemirror_mode": {
    "name": "ipython",
    "version": 3
   },
   "file_extension": ".py",
   "mimetype": "text/x-python",
   "name": "python",
   "nbconvert_exporter": "python",
   "pygments_lexer": "ipython3",
   "version": "3.12.6"
  }
 },
 "nbformat": 4,
 "nbformat_minor": 5
}
