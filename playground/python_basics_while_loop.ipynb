{
 "cells": [
  {
   "cell_type": "markdown",
   "id": "ad81ccb5",
   "metadata": {},
   "source": [
    "# Understanding the \"while\" Loop\n",
    "\n",
    "A `while` loop in Python repeatedly executes a target statement as long as a given condition is `True`."
   ]
  },
  {
   "cell_type": "code",
   "execution_count": 1,
   "id": "46744853",
   "metadata": {
    "execution": {
     "iopub.execute_input": "2024-10-05T20:41:09.848532Z",
     "iopub.status.busy": "2024-10-05T20:41:09.848345Z",
     "iopub.status.idle": "2024-10-05T20:41:09.852138Z",
     "shell.execute_reply": "2024-10-05T20:41:09.851655Z"
    }
   },
   "outputs": [
    {
     "name": "stdout",
     "output_type": "stream",
     "text": [
      "Count is: 0\n",
      "Count is: 1\n",
      "Count is: 2\n",
      "Count is: 3\n",
      "Count is: 4\n"
     ]
    }
   ],
   "source": [
    "# Simple `while` loop example\n",
    "count = 0\n",
    "while count < 5:\n",
    "    print(\"Count is:\", count)\n",
    "    count += 1"
   ]
  },
  {
   "cell_type": "markdown",
   "id": "cc4657ce",
   "metadata": {},
   "source": [
    "The loop above will keep printing a line until `count` is less than `5`."
   ]
  },
  {
   "cell_type": "code",
   "execution_count": 2,
   "id": "ac7fb9fd",
   "metadata": {
    "execution": {
     "iopub.execute_input": "2024-10-05T20:41:09.854058Z",
     "iopub.status.busy": "2024-10-05T20:41:09.853670Z",
     "iopub.status.idle": "2024-10-05T20:41:09.856776Z",
     "shell.execute_reply": "2024-10-05T20:41:09.856271Z"
    }
   },
   "outputs": [
    {
     "name": "stdout",
     "output_type": "stream",
     "text": [
      "Count is: 0\n",
      "Count is: 1\n",
      "Count is: 2\n",
      "Count is: 3\n",
      "Count is: 4\n"
     ]
    }
   ],
   "source": [
    "# Breaking out of a `while` loop\n",
    "count = 0\n",
    "while True:\n",
    "    print(\"Count is:\", count)\n",
    "    count += 1\n",
    "    if count >= 5:\n",
    "        break"
   ]
  },
  {
   "cell_type": "markdown",
   "id": "03017b26",
   "metadata": {},
   "source": [
    "The loop above uses `break` to exit the loop when `count` equals `5`."
   ]
  },
  {
   "cell_type": "code",
   "execution_count": 3,
   "id": "82a333ab",
   "metadata": {
    "execution": {
     "iopub.execute_input": "2024-10-05T20:41:09.858760Z",
     "iopub.status.busy": "2024-10-05T20:41:09.858284Z",
     "iopub.status.idle": "2024-10-05T20:41:09.861837Z",
     "shell.execute_reply": "2024-10-05T20:41:09.861380Z"
    }
   },
   "outputs": [
    {
     "name": "stdout",
     "output_type": "stream",
     "text": [
      "Count is: 0\n",
      "Count is: 1\n",
      "Count is: 2\n",
      "Count is: 3\n",
      "Count is: 4\n",
      "Loop ended\n"
     ]
    }
   ],
   "source": [
    "# Using `else` with a `while` loop\n",
    "count = 0\n",
    "while count < 5:\n",
    "    print(\"Count is:\", count)\n",
    "    count += 1\n",
    "else:\n",
    "    print(\"Loop ended\")"
   ]
  },
  {
   "cell_type": "markdown",
   "id": "52ee550c",
   "metadata": {},
   "source": [
    "In the example above, when the loop condition becomes `False`, the code in the `else` block is executed."
   ]
  },
  {
   "cell_type": "code",
   "execution_count": 4,
   "id": "0507ee79",
   "metadata": {
    "execution": {
     "iopub.execute_input": "2024-10-05T20:41:09.863498Z",
     "iopub.status.busy": "2024-10-05T20:41:09.863322Z",
     "iopub.status.idle": "2024-10-05T20:41:09.995644Z",
     "shell.execute_reply": "2024-10-05T20:41:09.994882Z"
    }
   },
   "outputs": [
    {
     "name": "stdout",
     "output_type": "stream",
     "text": [
      "* \u001b[32mgit-bob-mod-BzgoodqwIi\u001b[m\r\n",
      "  main\u001b[m\r\n"
     ]
    }
   ],
   "source": [
    "!git branch"
   ]
  }
 ],
 "metadata": {
  "language_info": {
   "codemirror_mode": {
    "name": "ipython",
    "version": 3
   },
   "file_extension": ".py",
   "mimetype": "text/x-python",
   "name": "python",
   "nbconvert_exporter": "python",
   "pygments_lexer": "ipython3",
   "version": "3.12.6"
  }
 },
 "nbformat": 4,
 "nbformat_minor": 5
}