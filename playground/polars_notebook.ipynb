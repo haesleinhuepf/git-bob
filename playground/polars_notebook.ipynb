{
 "cells": [
  {
   "cell_type": "markdown",
   "metadata": {},
   "source": [
    "# Introduction to Polars DataFrame Filtering\n",
    "\n",
    "In this notebook, we'll explore basic data filtering operations using the Polars library in Python."
   ]
  },
  {
   "cell_type": "code",
   "execution_count": null,
   "metadata": {},
   "outputs": [],
   "source": [
    "# Import the polars library\n",
    "import polars as pl"
   ]
  },
  {
   "cell_type": "markdown",
   "metadata": {},
   "source": [
    "## Create a DataFrame\n",
    "Let's create a simple DataFrame to demonstrate filtering operations."
   ]
  },
  {
   "cell_type": "code",
   "execution_count": null,
   "metadata": {},
   "outputs": [],
   "source": [
    "# Create a DataFrame\n",
    "data = {\n",
    "    \"name\": [\"Alice\", \"Bob\", \"Cathy\", \"David\"],\n",
    "    \"age\": [24, 30, 22, 40],\n",
    "    \"city\": [\"New York\", \"Paris\", \"Berlin\", \"Tokyo\"]\n",
    "}\n",
    "df = pl.DataFrame(data)\n",
    "df"
   ]
  },
  {
   "cell_type": "markdown",
   "metadata": {},
   "source": [
    "## Filter rows by condition\n",
    "Filter the DataFrame to get rows where the age is greater than 25."
   ]
  },
  {
   "cell_type": "code",
   "execution_count": null,
   "metadata": {},
   "outputs": [],
   "source": [
    "# Filter rows where age > 25\n",
    "filtered_df = df.filter(df[\"age\"] > 25)\n",
    "filtered_df"
   ]
  },
  {
   "cell_type": "markdown",
   "metadata": {},
   "source": [
    "## Filter rows by multiple conditions\n",
    "Let's filter the DataFrame for rows where age is greater than 25 and city is \"Paris\"."
   ]
  },
  {
   "cell_type": "code",
   "execution_count": null,
   "metadata": {},
   "outputs": [],
   "source": [
    "# Filter rows with multiple conditions\n",
    "multi_filtered_df = df.filter((df[\"age\"] > 25) & (df[\"city\"] == \"Paris\"))\n",
    "multi_filtered_df"
   ]
  },
  {
   "cell_type": "markdown",
   "metadata": {},
   "source": [
    "## Conclusion\n",
    "\n",
    "These basic filtering operations can help in data analysis and manipulation tasks using Polars."
   ]
  }
 ],
 "metadata": {
  "kernelspec": {
   "display_name": "Python 3",
   "language": "python",
   "name": "python3"
  },
  "language_info": {
   "codemirror_mode": {
    "name": "ipython",
    "version": 3
   },
   "file_extension": ".py",
   "mimetype": "text/x-python",
   "name": "python",
   "nbconvert_exporter": "python",
   "pygments_lexer": "ipython3",
   "version": "3.8.5"
  }
 },
 "nbformat": 4,
 "nbformat_minor": 5
}
