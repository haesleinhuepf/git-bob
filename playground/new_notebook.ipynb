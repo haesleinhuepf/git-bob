{
 "cells": [
  {
   "cell_type": "markdown",
   "id": "de822b6a",
   "metadata": {},
   "source": [
    "# Accessing Environment Variable\n",
    "In this notebook, we will access and print an environment variable `GIT_BOB_LLM_NAME`."
   ]
  },
  {
   "cell_type": "code",
   "execution_count": 1,
   "id": "3b5223bd",
   "metadata": {
    "execution": {
     "iopub.execute_input": "2024-10-12T10:26:19.260631Z",
     "iopub.status.busy": "2024-10-12T10:26:19.260631Z",
     "iopub.status.idle": "2024-10-12T10:26:19.265351Z",
     "shell.execute_reply": "2024-10-12T10:26:19.265351Z"
    }
   },
   "outputs": [],
   "source": [
    "import os"
   ]
  },
  {
   "cell_type": "markdown",
   "id": "b3ded427",
   "metadata": {},
   "source": [
    "Let's print the `GIT_BOB_LLM_NAME` environment variable."
   ]
  },
  {
   "cell_type": "code",
   "execution_count": 2,
   "id": "666f06ad",
   "metadata": {
    "execution": {
     "iopub.execute_input": "2024-10-12T10:26:19.267357Z",
     "iopub.status.busy": "2024-10-12T10:26:19.267357Z",
     "iopub.status.idle": "2024-10-12T10:26:19.416382Z",
     "shell.execute_reply": "2024-10-12T10:26:19.416382Z"
    }
   },
   "outputs": [
    {
     "ename": "KeyError",
     "evalue": "'GIT_BOB_LLM_NAME'",
     "output_type": "error",
     "traceback": [
      "\u001b[1;31m---------------------------------------------------------------------------\u001b[0m",
      "\u001b[1;31mKeyError\u001b[0m                                  Traceback (most recent call last)",
      "Cell \u001b[1;32mIn[2], line 1\u001b[0m\n\u001b[1;32m----> 1\u001b[0m \u001b[38;5;28mprint\u001b[39m(\u001b[43mos\u001b[49m\u001b[38;5;241;43m.\u001b[39;49m\u001b[43menviron\u001b[49m\u001b[43m[\u001b[49m\u001b[38;5;124;43m\"\u001b[39;49m\u001b[38;5;124;43mGIT_BOB_LLM_NAME\u001b[39;49m\u001b[38;5;124;43m\"\u001b[39;49m\u001b[43m]\u001b[49m)\n",
      "File \u001b[1;32m<frozen os>:679\u001b[0m, in \u001b[0;36m__getitem__\u001b[1;34m(self, key)\u001b[0m\n",
      "\u001b[1;31mKeyError\u001b[0m: 'GIT_BOB_LLM_NAME'"
     ]
    }
   ],
   "source": [
    "print(os.environ[\"GIT_BOB_LLM_NAME\"])"
   ]
  },
  {
   "cell_type": "markdown",
   "id": "654d3133",
   "metadata": {},
   "source": [
    "## Key Takeaways\n",
    "- We accessed and printed an environment variable.\n",
    "- Remember to set `GIT_BOB_LLM_NAME` environment variable before running the notebook."
   ]
  }
 ],
 "metadata": {
  "language_info": {
   "codemirror_mode": {
    "name": "ipython",
    "version": 3
   },
   "file_extension": ".py",
   "mimetype": "text/x-python",
   "name": "python",
   "nbconvert_exporter": "python",
   "pygments_lexer": "ipython3",
   "version": "3.11.10"
  }
 },
 "nbformat": 4,
 "nbformat_minor": 5
}
