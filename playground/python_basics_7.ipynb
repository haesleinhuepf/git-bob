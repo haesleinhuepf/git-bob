{
 "cells": [
  {
   "cell_type": "markdown",
   "id": "c1aa3a05",
   "metadata": {},
   "source": [
    "# Understanding the `while` Loop in Python\n",
    "\n",
    "A **`while` loop** in Python repeatedly executes a block of code as long as a specified condition is `True`.\n",
    "Let's explore how the while loop works with an example."
   ]
  },
  {
   "cell_type": "markdown",
   "id": "495612b3",
   "metadata": {},
   "source": [
    "### Basic Structure of a `while` loop"
   ]
  },
  {
   "cell_type": "code",
   "execution_count": 1,
   "id": "8dd52243",
   "metadata": {
    "execution": {
     "iopub.execute_input": "2024-10-05T20:32:44.966383Z",
     "iopub.status.busy": "2024-10-05T20:32:44.965925Z",
     "iopub.status.idle": "2024-10-05T20:32:44.973320Z",
     "shell.execute_reply": "2024-10-05T20:32:44.972745Z"
    }
   },
   "outputs": [
    {
     "name": "stdout",
     "output_type": "stream",
     "text": [
      "Counter is: 0\n",
      "Counter is: 1\n",
      "Counter is: 2\n",
      "Counter is: 3\n",
      "Counter is: 4\n"
     ]
    }
   ],
   "source": [
    "counter = 0\n",
    "while counter < 5:\n",
    "    print(\"Counter is:\", counter)\n",
    "    counter += 1  # Increment the counter"
   ]
  },
  {
   "cell_type": "markdown",
   "id": "55862cf8",
   "metadata": {},
   "source": [
    "In this example, the `while` loop continues to execute as long as the `counter` is less than 5. With each iteration, the `counter` is incremented by 1 until it reaches 5."
   ]
  },
  {
   "cell_type": "markdown",
   "id": "e5c19176",
   "metadata": {},
   "source": [
    "### Using a `while` loop to calculate the sum of numbers"
   ]
  },
  {
   "cell_type": "code",
   "execution_count": 2,
   "id": "36ba1117",
   "metadata": {
    "execution": {
     "iopub.execute_input": "2024-10-05T20:32:44.975239Z",
     "iopub.status.busy": "2024-10-05T20:32:44.975054Z",
     "iopub.status.idle": "2024-10-05T20:32:44.978226Z",
     "shell.execute_reply": "2024-10-05T20:32:44.977765Z"
    }
   },
   "outputs": [
    {
     "name": "stdout",
     "output_type": "stream",
     "text": [
      "Sum is: 15\n"
     ]
    }
   ],
   "source": [
    "sum = 0\n",
    "number = 1\n",
    "\n",
    "while number <= 5:\n",
    "    sum += number\n",
    "    number += 1\n",
    "\n",
    "print(\"Sum is:\", sum)"
   ]
  },
  {
   "cell_type": "markdown",
   "id": "0331525a",
   "metadata": {},
   "source": [
    "Here, the `while` loop calculates the sum of numbers from 1 to 5 by incrementing the `number` variable and adding it to `sum` in each iteration."
   ]
  },
  {
   "cell_type": "markdown",
   "id": "91085b4b",
   "metadata": {},
   "source": [
    "### Running Shell Commands\n",
    "You can run shell commands in a Jupyter notebook using the `!` operator."
   ]
  },
  {
   "cell_type": "code",
   "execution_count": 3,
   "id": "e25d8d9f",
   "metadata": {
    "execution": {
     "iopub.execute_input": "2024-10-05T20:32:44.979952Z",
     "iopub.status.busy": "2024-10-05T20:32:44.979749Z",
     "iopub.status.idle": "2024-10-05T20:32:45.107805Z",
     "shell.execute_reply": "2024-10-05T20:32:45.107154Z"
    }
   },
   "outputs": [
    {
     "name": "stdout",
     "output_type": "stream",
     "text": [
      "* \u001b[32mmain\u001b[m\r\n"
     ]
    }
   ],
   "source": [
    "!git branch"
   ]
  }
 ],
 "metadata": {
  "language_info": {
   "codemirror_mode": {
    "name": "ipython",
    "version": 3
   },
   "file_extension": ".py",
   "mimetype": "text/x-python",
   "name": "python",
   "nbconvert_exporter": "python",
   "pygments_lexer": "ipython3",
   "version": "3.12.6"
  }
 },
 "nbformat": 4,
 "nbformat_minor": 5
}
