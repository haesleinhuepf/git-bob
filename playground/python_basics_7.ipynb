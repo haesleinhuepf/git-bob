{
 "cells": [
  {
   "cell_type": "markdown",
   "id": "61bfec8e",
   "metadata": {},
   "source": [
    "# Understanding while Loops in Python\n",
    "\n",
    "In this notebook, we'll explore how `while` loops work in Python. A `while` loop repeatedly executes a block of code as long as its condition is `True`."
   ]
  },
  {
   "cell_type": "markdown",
   "id": "21dd440a",
   "metadata": {},
   "source": [
    "## Basic Structure of a while Loop\n",
    "A `while` loop continues to execute the block as long as the condition remains `True`. Here’s the basic syntax:\n",
    "\n",
    "```python\n",
    "while condition:\n",
    "    # code block to execute\n",
    "```\n",
    "Let's see an example."
   ]
  },
  {
   "cell_type": "code",
   "execution_count": 1,
   "id": "68bdb40f",
   "metadata": {
    "execution": {
     "iopub.execute_input": "2024-10-05T20:28:22.835473Z",
     "iopub.status.busy": "2024-10-05T20:28:22.835277Z",
     "iopub.status.idle": "2024-10-05T20:28:22.839196Z",
     "shell.execute_reply": "2024-10-05T20:28:22.838708Z"
    }
   },
   "outputs": [
    {
     "name": "stdout",
     "output_type": "stream",
     "text": [
      "i is: 0\n",
      "i is: 1\n",
      "i is: 2\n",
      "i is: 3\n",
      "i is: 4\n"
     ]
    }
   ],
   "source": [
    "i = 0\n",
    "\n",
    "while i < 5:\n",
    "    print(\"i is:\", i)\n",
    "    i += 1"
   ]
  },
  {
   "cell_type": "markdown",
   "id": "8e6a3b0b",
   "metadata": {},
   "source": [
    "In the code above:\n",
    "- We initialize a variable `i` with a value of 0.\n",
    "- The `while` loop checks if `i` is less than 5.\n",
    "- Inside the loop, we print the current value of `i` and then increment it by 1.\n",
    "- The loop stops once `i` is no longer less than 5."
   ]
  },
  {
   "cell_type": "markdown",
   "id": "c7f9810a",
   "metadata": {},
   "source": [
    "## Executing Shell Commands in Notebooks\n",
    "You can execute shell commands using the `!` operator. Here, we demonstrate this by listing all git branches using `!git branch`."
   ]
  },
  {
   "cell_type": "code",
   "execution_count": 2,
   "id": "b015ca7a",
   "metadata": {
    "execution": {
     "iopub.execute_input": "2024-10-05T20:28:22.841114Z",
     "iopub.status.busy": "2024-10-05T20:28:22.840745Z",
     "iopub.status.idle": "2024-10-05T20:28:22.968305Z",
     "shell.execute_reply": "2024-10-05T20:28:22.967632Z"
    }
   },
   "outputs": [
    {
     "name": "stdout",
     "output_type": "stream",
     "text": [
      "* \u001b[32mmain\u001b[m\r\n"
     ]
    }
   ],
   "source": [
    "!git branch"
   ]
  }
 ],
 "metadata": {
  "language_info": {
   "codemirror_mode": {
    "name": "ipython",
    "version": 3
   },
   "file_extension": ".py",
   "mimetype": "text/x-python",
   "name": "python",
   "nbconvert_exporter": "python",
   "pygments_lexer": "ipython3",
   "version": "3.12.6"
  }
 },
 "nbformat": 4,
 "nbformat_minor": 5
}