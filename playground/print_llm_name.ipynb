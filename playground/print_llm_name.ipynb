{
 "cells": [
  {
   "cell_type": "markdown",
   "id": "7c2be873",
   "metadata": {},
   "source": [
    "# Print Environment Variable\n",
    "\n",
    "This notebook prints out the value of the environment variable `GIT_BOB_LLM_NAME`."
   ]
  },
  {
   "cell_type": "code",
   "execution_count": 1,
   "id": "d8b6e314",
   "metadata": {
    "execution": {
     "iopub.execute_input": "2024-10-12T10:09:26.932964Z",
     "iopub.status.busy": "2024-10-12T10:09:26.932964Z",
     "iopub.status.idle": "2024-10-12T10:09:26.936973Z",
     "shell.execute_reply": "2024-10-12T10:09:26.936973Z"
    }
   },
   "outputs": [],
   "source": [
    "# Import necessary library\n",
    "import os"
   ]
  },
  {
   "cell_type": "markdown",
   "id": "dea86cfb",
   "metadata": {},
   "source": [
    "## Print the Environment Variable\n",
    "Next, we retrieve and print the value of `GIT_BOB_LLM_NAME` from the environment."
   ]
  },
  {
   "cell_type": "code",
   "execution_count": 2,
   "id": "972f1438",
   "metadata": {
    "execution": {
     "iopub.execute_input": "2024-10-12T10:09:26.938983Z",
     "iopub.status.busy": "2024-10-12T10:09:26.938983Z",
     "iopub.status.idle": "2024-10-12T10:09:26.941225Z",
     "shell.execute_reply": "2024-10-12T10:09:26.941225Z"
    }
   },
   "outputs": [
    {
     "name": "stdout",
     "output_type": "stream",
     "text": [
      "Variable not set\n"
     ]
    }
   ],
   "source": [
    "# Retrieve and print the environment variable\n",
    "llm_name = os.environ.get(\"GIT_BOB_LLM_NAME\", \"Variable not set\")\n",
    "print(llm_name)"
   ]
  }
 ],
 "metadata": {
  "language_info": {
   "codemirror_mode": {
    "name": "ipython",
    "version": 3
   },
   "file_extension": ".py",
   "mimetype": "text/x-python",
   "name": "python",
   "nbconvert_exporter": "python",
   "pygments_lexer": "ipython3",
   "version": "3.11.10"
  }
 },
 "nbformat": 4,
 "nbformat_minor": 5
}
