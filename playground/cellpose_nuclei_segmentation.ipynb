{
 "cells": [
  {
   "cell_type": "markdown",
   "metadata": {},
   "source": [
    "# Nucleus Segmentation with Cellpose\n",
    "\n",
    "In this notebook, we'll use the **Cellpose** library to segment nuclei in an image. This step-by-step guide is designed for life scientists with limited coding skills."
   ],
   "id": null
  },
  {
   "cell_type": "markdown",
   "metadata": {},
   "source": [
    "## Step 1: Install Cellpose\n",
    "First, we need to ensure the Cellpose library is installed. You can do this by executing the following command in your terminal."
   ],
   "id": null
  },
  {
   "cell_type": "code",
   "execution_count": null,
   "metadata": {},
   "outputs": [],
   "source": [
    "!pip install cellpose"
   ],
   "id": null
  },
  {
   "cell_type": "markdown",
   "metadata": {},
   "source": [
    "## Step 2: Import Libraries\n",
    "Let's import the necessary libraries for image processing and segmentation."
   ],
   "id": null
  },
  {
   "cell_type": "code",
   "execution_count": null,
   "metadata": {},
   "outputs": [],
   "source": [
    "from cellpose import models, io"
   ],
   "id": null
  },
  {
   "cell_type": "markdown",
   "metadata": {},
   "source": [
    "## Step 3: Load Your Image\n",
    "Load the image you want to segment. We'll use the example image `blobs.tif` that is located in the `playground` folder."
   ],
   "id": null
  },
  {
   "cell_type": "code",
   "execution_count": null,
   "metadata": {},
   "outputs": [],
   "source": [
    "img_paths = ['playground/blobs.tif']\n",
    "imgs = io.imread(img_paths)"
   ],
   "id": null
  },
  {
   "cell_type": "markdown",
   "metadata": {},
   "source": [
    "## Step 4: Initialize the Cellpose Model\n",
    "Create a Cellpose model for nuclei segmentation."
   ],
   "id": null
  },
  {
   "cell_type": "code",
   "execution_count": null,
   "metadata": {},
   "outputs": [],
   "source": [
    "model = models.Cellpose(model_type='nuclei')"
   ],
   "id": null
  },
  {
   "cell_type": "markdown",
   "metadata": {},
   "source": [
    "## Step 5: Run the Segmentation\n",
    "Segment the nuclei in the image using the model. Adjust `diameter` and `channels` if necessary for your specific data."
   ],
   "id": null
  },
  {
   "cell_type": "code",
   "execution_count": null,
   "metadata": {},
   "outputs": [],
   "source": [
    "masks, flows, styles, diams = model.eval(imgs, diameter=None, channels=[0, 0])"
   ],
   "id": null
  },
  {
   "cell_type": "markdown",
   "metadata": {},
   "source": [
    "## Step 6: Save or Display the Results\n",
    "Save the segmented masks or visualize them to check the results."
   ],
   "id": null
  },
  {
   "cell_type": "code",
   "execution_count": null,
   "metadata": {},
   "outputs": [],
   "source": [
    "io.save_masks(img_paths, masks, flows, diams, savedir='playground')"
   ],
   "id": null
  },
  {
   "cell_type": "markdown",
   "metadata": {},
   "source": [
    "## Exercise\n",
    "Try using a different image. Change the `img_paths` variable to point to a new image file and re-run the segmentation. Experiment with different `diameter` and `channels` settings if needed."
   ],
   "id": null
  }
 ],
 "metadata": {},
 "nbformat": 4,
 "nbformat_minor": 4
}
