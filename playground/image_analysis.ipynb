{
 "cells": [
  {
   "cell_type": "markdown",
   "metadata": {},
   "source": [
    "# Image Analysis: Segmenting Nuclei in the Blue Channel\n",
    "\n",
    "In this notebook, we will analyze a microscopic image to segment cellular nuclei using OpenCV, focusing on the blue channel."
   ]
  },
  {
   "cell_type": "markdown",
   "metadata": {},
   "source": [
    "## Step 1: Load the Image\n",
    "\n",
    "We will start by loading the image using OpenCV."
   ]
  },
  {
   "cell_type": "code",
   "execution_count": null,
   "metadata": {},
   "outputs": [],
   "source": [
    "import cv2\n",
    "import matplotlib.pyplot as plt\n",
    "\n",
    "# Load the image\n",
    "image = cv2.imread('playground/hela-cells-8bit.jpg')\n",
    "\n",
    "# Convert the image to RGB for displaying with matplotlib\n",
    "image_rgb = cv2.cvtColor(image, cv2.COLOR_BGR2RGB)\n",
    "\n",
    "# Display the original image\n",
    "plt.imshow(image_rgb)\n",
    "plt.title('Original Image')\n",
    "plt.axis('off')\n",
    "plt.show()"
   ]
  },
  {
   "cell_type": "markdown",
   "metadata": {},
   "source": [
    "## Step 2: Extract the Blue Channel\n",
    "\n",
    "The blue channel contains the nuclear staining, which we will focus on for segmentation."
   ]
  },
  {
   "cell_type": "code",
   "execution_count": null,
   "metadata": {},
   "outputs": [],
   "source": [
    "# Split the channels and get the blue channel\n",
    "_, _, blue_channel = cv2.split(image)\n",
    "\n",
    "# Display the blue channel image\n",
    "plt.imshow(blue_channel, cmap='gray')\n",
    "plt.title('Blue Channel')\n",
    "plt.axis('off')\n",
    "plt.show()"
   ]
  },
  {
   "cell_type": "markdown",
   "metadata": {},
   "source": [
    "## Step 3: Apply Gaussian Blur\n",
    "\n",
    "Apply Gaussian Blur to smooth the blue channel image and reduce noise."
   ]
  },
  {
   "cell_type": "code",
   "execution_count": null,
   "metadata": {},
   "outputs": [],
   "source": [
    "# Apply Gaussian Blur\n",
    "blurred = cv2.GaussianBlur(blue_channel, (5, 5), 0)\n",
    "\n",
    "# Display the blurred image\n",
    "plt.imshow(blurred, cmap='gray')\n",
    "plt.title('Blurred Blue Channel')\n",
    "plt.axis('off')\n",
    "plt.show()"
   ]
  },
  {
   "cell_type": "markdown",
   "metadata": {},
   "source": [
    "## Step 4: Binarize the Image\n",
    "\n",
    "Use Otsu's thresholding method to binarize the blurred blue channel."
   ]
  },
  {
   "cell_type": "code",
   "execution_count": null,
   "metadata": {},
   "outputs": [],
   "source": [
    "# Use Otsu's thresholding\n",
    "_, binary = cv2.threshold(blurred, 0, 255, cv2.THRESH_BINARY + cv2.THRESH_OTSU)\n",
    "\n",
    "# Display the binary image\n",
    "plt.imshow(binary, cmap='gray')\n",
    "plt.title('Binary Image')\n",
    "plt.axis('off')\n",
    "plt.show()"
   ]
  },
  {
   "cell_type": "markdown",
   "metadata": {},
   "source": [
    "## Step 5: Find and Visualize Contours\n",
    "\n",
    "Find contours representing segmented nuclei and draw them on the original image for visualization."
   ]
  },
  {
   "cell_type": "code",
   "execution_count": null,
   "metadata": {},
   "outputs": [],
   "source": [
    "# Find contours\n",
    "contours, _ = cv2.findContours(binary, cv2.RETR_EXTERNAL, cv2.CHAIN_APPROX_SIMPLE)\n",
    "\n",
    "# Draw contours on the original RGB image\n",
    "result = image_rgb.copy()\n",
    "cv2.drawContours(result, contours, -1, (0, 255, 0), 2)\n",
    "\n",
    "# Display the image with contours\n",
    "plt.imshow(result)\n",
    "plt.title('Segmented Nuclei')\n",
    "plt.axis('off')\n",
    "plt.show()"
   ]
  },
  {
   "cell_type": "markdown",
   "metadata": {},
   "source": [
    "## Exercise\n",
    "\n",
    "Try modifying the Gaussian Blur parameters or exploring alternative thresholding techniques. How do these changes affect the segmentation of the nuclei?"
   ]
  }
 ],
 "metadata": {},
 "nbformat": 4,
 "nbformat_minor": 5
}
