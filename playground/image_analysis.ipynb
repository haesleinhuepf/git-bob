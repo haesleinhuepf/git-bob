{
 "cells": [
  {
   "cell_type": "markdown",
   "metadata": {},
   "source": [
    "# Image Analysis Notebook\n",
    "\n",
    "In this notebook, we will analyze a fluorescence microscopy image of cells. Our goal is to segment objects in the blue channel, which correspond to cell nuclei. We will perform this task using Python and OpenCV."
   ]
  },
  {
   "cell_type": "markdown",
   "metadata": {},
   "source": [
    "## Load the Image\n",
    "\n",
    "Firstly, we need to import the necessary libraries and load the image into our environment."
   ]
  },
  {
   "cell_type": "code",
   "execution_count": null,
   "metadata": {},
   "outputs": [],
   "source": [
    "import cv2\n",
    "import numpy as np\n",
    "from matplotlib import pyplot as plt\n",
    "\n",
    "# Load the image\n",
    "image = cv2.imread('hela-cells-8bit.png')\n",
    "\n",
    "# Display the loaded image\n",
    "plt.imshow(cv2.cvtColor(image, cv2.COLOR_BGR2RGB))\n",
    "plt.title('Original Image')\n",
    "plt.axis('off')\n",
    "plt.show()"
   ]
  },
  {
   "cell_type": "markdown",
   "metadata": {},
   "source": [
    "## Extract the Blue Channel\n",
    "\n",
    "We are interested in the blue channel of this image as it contains the nuclear staining."
   ]
  },
  {
   "cell_type": "code",
   "execution_count": null,
   "metadata": {},
   "outputs": [],
   "source": [
    "# Split the channels and get the blue channel\n",
    "_, _, blue_channel = cv2.split(image)\n",
    "\n",
    "# Display the blue channel\n",
    "plt.imshow(blue_channel, cmap='gray')\n",
    "plt.title('Blue Channel')\n",
    "plt.axis('off')\n",
    "plt.show()"
   ]
  },
  {
   "cell_type": "markdown",
   "metadata": {},
   "source": [
    "## Apply Gaussian Blur\n",
    "\n",
    "To reduce noise in the blue channel, we apply a Gaussian blur."
   ]
  },
  {
   "cell_type": "code",
   "execution_count": null,
   "metadata": {},
   "outputs": [],
   "source": [
    "# Apply Gaussian Blur\n",
    "blurred = cv2.GaussianBlur(blue_channel, (5, 5), 0)\n",
    "\n",
    "# Display the blurred image\n",
    "plt.imshow(blurred, cmap='gray')\n",
    "plt.title('Blurred Blue Channel')\n",
    "plt.axis('off')\n",
    "plt.show()"
   ]
  },
  {
   "cell_type": "markdown",
   "metadata": {},
   "source": [
    "## Thresholding with Otsu's Method\n",
    "\n",
    "Apply Otsu's method to binarize the image, making the segmentation of nuclei straightforward."
   ]
  },
  {
   "cell_type": "code",
   "execution_count": null,
   "metadata": {},
   "outputs": [],
   "source": [
    "# Use Otsu's thresholding\n",
    "_, binary = cv2.threshold(blurred, 0, 255, cv2.THRESH_BINARY + cv2.THRESH_OTSU)\n",
    "\n",
    "# Display the binary image\n",
    "plt.imshow(binary, cmap='gray')\n",
    "plt.title('Binary Image')\n",
    "plt.axis('off')\n",
    "plt.show()"
   ]
  },
  {
   "cell_type": "markdown",
   "metadata": {},
   "source": [
    "## Find and Draw Contours\n",
    "\n",
    "Identify contours representing the segmented nuclei and visualize them on the original image."
   ]
  },
  {
   "cell_type": "code",
   "execution_count": null,
   "metadata": {},
   "outputs": [],
   "source": [
    "# Find contours\n",
    "contours, _ = cv2.findContours(binary, cv2.RETR_EXTERNAL, cv2.CHAIN_APPROX_SIMPLE)\n",
    "\n",
    "# Draw contours on the original image\n",
    "contoured_image = image.copy()\n",
    "cv2.drawContours(contoured_image, contours, -1, (0, 255, 0), 2)\n",
    "\n",
    "# Display the contoured image\n",
    "plt.imshow(cv2.cvtColor(contoured_image, cv2.COLOR_BGR2RGB))\n",
    "plt.title('Segmented Nuclei')\n",
    "plt.axis('off')\n",
    "plt.show()"
   ]
  },
  {
   "cell_type": "markdown",
   "metadata": {},
   "source": [
    "## Exercise\n",
    "\n",
    "Try repeating this image processing workflow with another image or using a different channel. Experiment with varying the parameters of the Gaussian blur and observe how it affects the segmentation results."
   ]
  }
 ],
 "metadata": {},
 "nbformat": 4,
 "nbformat_minor": 5
}
