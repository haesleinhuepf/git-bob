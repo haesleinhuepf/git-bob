{
 "cells": [
  {
   "cell_type": "markdown",
   "metadata": {},
   "source": [
    "# Image Analysis: Segmentation of Nuclei\n",
    "\n",
    "In this notebook, we'll learn how to segment objects in the blue channel of a microscopy image. We'll use OpenCV for image processing tasks including reading the image, channel manipulation, and contour detection."
   ]
  },
  {
   "cell_type": "markdown",
   "metadata": {},
   "source": [
    "## Step 1: Load the Image\n",
    "First, we'll load the image of interest into our notebook."
   ]
  },
  {
   "cell_type": "code",
   "execution_count": null,
   "metadata": {},
   "outputs": [],
   "source": [
    "import cv2\n",
    "from matplotlib import pyplot as plt\n",
    "\n",
    "# Load the image\n",
    "image = cv2.imread('hela-cells-8bit.jpg')\n",
    "\n",
    "# Convert BGR to RGB for visualization\n",
    "image_rgb = cv2.cvtColor(image, cv2.COLOR_BGR2RGB)\n",
    "\n",
    "# Display the image\n",
    "plt.imshow(image_rgb)\n",
    "plt.title('Original Image')\n",
    "plt.axis('off')\n",
    "plt.show()"
   ]
  },
  {
   "cell_type": "markdown",
   "metadata": {},
   "source": [
    "## Step 2: Extract the Blue Channel\n",
    "We focus on the blue channel which typically represents the nuclei in our image. This will facilitate the segmentation process."
   ]
  },
  {
   "cell_type": "code",
   "execution_count": null,
   "metadata": {},
   "outputs": [],
   "source": [
    "# Split the image into its respective color channels\n",
    "blue_channel = image[:,:,2]  # OpenCV loads in BGR order\n",
    "\n",
    "# Display the blue channel\n",
    "plt.imshow(blue_channel, cmap='gray')\n",
    "plt.title('Blue Channel')\n",
    "plt.axis('off')\n",
    "plt.show()"
   ]
  },
  {
   "cell_type": "markdown",
   "metadata": {},
   "source": [
    "## Step 3: Apply Gaussian Blur\n",
    "To reduce noise in the image, we will apply a Gaussian Blur."
   ]
  },
  {
   "cell_type": "code",
   "execution_count": null,
   "metadata": {},
   "outputs": [],
   "source": [
    "# Apply Gaussian Blur\n",
    "blurred = cv2.GaussianBlur(blue_channel, (5, 5), 0)\n",
    "\n",
    "# Display blurred image\n",
    "plt.imshow(blurred, cmap='gray')\n",
    "plt.title('Blurred Image')\n",
    "plt.axis('off')\n",
    "plt.show()"
   ]
  },
  {
   "cell_type": "markdown",
   "metadata": {},
   "source": [
    "## Step 4: Perform Otsu's Thresholding\n",
    "Use Otsu's method to convert the blurred image into a binary image, which helps in identifying objects."
   ]
  },
  {
   "cell_type": "code",
   "execution_count": null,
   "metadata": {},
   "outputs": [],
   "source": [
    "# Otsu's thresholding\n",
    "_, binary = cv2.threshold(blurred, 0, 255, cv2.THRESH_BINARY + cv2.THRESH_OTSU)\n",
    "\n",
    "# Display binary image\n",
    "plt.imshow(binary, cmap='gray')\n",
    "plt.title('Binary Image')\n",
    "plt.axis('off')\n",
    "plt.show()"
   ]
  },
  {
   "cell_type": "markdown",
   "metadata": {},
   "source": [
    "## Step 5: Find and Draw Contours\n",
    "Contours are curves that join all continuous points along a boundary having the same color or intensity. Here we find contours in the binary image and draw them on the original image."
   ]
  },
  {
   "cell_type": "code",
   "execution_count": null,
   "metadata": {},
   "outputs": [],
   "source": [
    "# Find contours\n",
    "contours, _ = cv2.findContours(binary, cv2.RETR_EXTERNAL, cv2.CHAIN_APPROX_SIMPLE)\n",
    "\n",
    "# Draw contours on the original image\n",
    "cv2.drawContours(image, contours, -1, (0, 255, 0), 2)\n",
    "\n",
    "# Convert the resulting image back to RGB\n",
    "image_with_contours = cv2.cvtColor(image, cv2.COLOR_BGR2RGB)\n",
    "\n",
    "# Display the image with contours\n",
    "plt.imshow(image_with_contours)\n",
    "plt.title('Segmented Image')\n",
    "plt.axis('off')\n",
    "plt.show()"
   ]
  },
  {
   "cell_type": "markdown",
   "metadata": {},
   "source": [
    "## Exercise\n",
    "\n",
    "Try modifying the `GaussianBlur` parameters (kernel size) or using a different thresholding technique to see how it affects segmentation. Document your findings below."
   ]
  }
 ],
 "metadata": {},
 "nbformat": 4,
 "nbformat_minor": 5
}
