{
 "cells": [
  {
   "cell_type": "markdown",
   "metadata": {},
   "source": [
    "# Image Analysis with Scikit-Image\n",
    "\n",
    "In this Jupyter notebook, we will learn how to segment objects in the blue channel of a fluorescence microscopy image using the `scikit-image` library. The image we will work on is named `hela-cells-8bit.png` and should be in the same directory as this notebook."
   ]
  },
  {
   "cell_type": "markdown",
   "metadata": {},
   "source": [
    "## Step 1: Load the Image\n",
    "\n",
    "First, we'll load the image using `scikit-image`'s `io` module and extract the blue channel."
   ]
  },
  {
   "cell_type": "code",
   "execution_count": null,
   "metadata": {},
   "outputs": [],
   "source": [
    "from skimage import io\n",
    "\n",
    "# Load the image\n",
    "image = io.imread('hela-cells-8bit.png')\n",
    "\n",
    "# Extract the blue channel\n",
    "blue_channel = image[:, :, 2]\n",
    "\n",
    "# Display the blue channel\n",
    "io.imshow(blue_channel)"
   ]
  },
  {
   "cell_type": "markdown",
   "metadata": {},
   "source": [
    "## Step 2: Smooth the Image\n",
    "\n",
    "To reduce noise and prepare for segmentation, we will apply a Gaussian blur to the blue channel."
   ]
  },
  {
   "cell_type": "code",
   "execution_count": null,
   "metadata": {},
   "outputs": [],
   "source": [
    "from skimage import filters\n",
    "\n",
    "# Apply Gaussian Blur\n",
    "blurred = filters.gaussian(blue_channel, sigma=1)\n",
    "\n",
    "# Display the blurred image\n",
    "io.imshow(blurred)"
   ]
  },
  {
   "cell_type": "markdown",
   "metadata": {},
   "source": [
    "## Step 3: Thresholding\n",
    "\n",
    "We will use Otsu's method to compute the optimal threshold for binarizing the blurred image. This technique helps in distinguishing the nuclei from the background."
   ]
  },
  {
   "cell_type": "code",
   "execution_count": null,
   "metadata": {},
   "outputs": [],
   "source": [
    "from skimage.filters import threshold_otsu\n",
    "\n",
    "# Compute Otsu's threshold\n",
    "thresh = threshold_otsu(blurred)\n",
    "\n",
    "# Binarize the image\n",
    "binary = blurred > thresh\n",
    "\n",
    "# Display the binary image\n",
    "io.imshow(binary)"
   ]
  },
  {
   "cell_type": "markdown",
   "metadata": {},
   "source": [
    "## Step 4: Contour Detection\n",
    "\n",
    "We will find contours in the binary image to identify the nuclei, and then visualize these contours overlaid on the blue channel."
   ]
  },
  {
   "cell_type": "code",
   "execution_count": null,
   "metadata": {},
   "outputs": [],
   "source": [
    "from skimage import measure, color\n",
    "import matplotlib.pyplot as plt\n",
    "\n",
    "# Find contours\n",
    "contours = measure.find_contours(binary, 0.8)\n",
    "\n",
    "# Convert the blue channel to RGB for visualization\n",
    "image_rgb = color.gray2rgb(blue_channel)\n",
    "\n",
    "# Visualize contours\n",
    "fig, ax = plt.subplots()\n",
    "ax.imshow(image_rgb, cmap=plt.cm.gray)\n",
    "\n",
    "for contour in contours:\n",
    "    ax.plot(contour[:, 1], contour[:, 0], linewidth=2)\n",
    "\n",
    "ax.set_title('Segmented Nuclei')\n",
    "plt.axis('off')\n",
    "plt.show()"
   ]
  },
  {
   "cell_type": "markdown",
   "metadata": {},
   "source": [
    "## Exercise\n",
    "\n",
    "Try modifying the parameters of the Gaussian blur or the thresholding method to see how they affect the segmentation results. Which changes lead to better segmentations?"
   ]
  }
 ],
 "metadata": {},
 "nbformat": 4,
 "nbformat_minor": 5
}
