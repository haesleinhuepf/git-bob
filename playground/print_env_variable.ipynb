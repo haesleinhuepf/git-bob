{
 "cells": [
  {
   "cell_type": "markdown",
   "id": "9b13f7be",
   "metadata": {},
   "source": [
    "# Printing an Environment Variable\n",
    "\n",
    "This notebook demonstrates how to print the value of an environment variable using Python's `os` module, specifically the `GIT_BOB_LLM_NAME` variable."
   ]
  },
  {
   "cell_type": "code",
   "execution_count": 1,
   "id": "15754bc7",
   "metadata": {
    "execution": {
     "iopub.execute_input": "2024-10-12T10:16:11.293757Z",
     "iopub.status.busy": "2024-10-12T10:16:11.293757Z",
     "iopub.status.idle": "2024-10-12T10:16:11.298247Z",
     "shell.execute_reply": "2024-10-12T10:16:11.298247Z"
    }
   },
   "outputs": [],
   "source": [
    "# Importing the required module\n",
    "import os"
   ]
  },
  {
   "cell_type": "markdown",
   "id": "2a7021e9",
   "metadata": {},
   "source": [
    "## Accessing the Environment Variable\n",
    "\n",
    "Attempt to access the `GIT_BOB_LLM_NAME` environment variable and print it's value."
   ]
  },
  {
   "cell_type": "code",
   "execution_count": 2,
   "id": "709b5155",
   "metadata": {
    "execution": {
     "iopub.execute_input": "2024-10-12T10:16:11.299252Z",
     "iopub.status.busy": "2024-10-12T10:16:11.299252Z",
     "iopub.status.idle": "2024-10-12T10:16:11.301676Z",
     "shell.execute_reply": "2024-10-12T10:16:11.301676Z"
    }
   },
   "outputs": [
    {
     "name": "stdout",
     "output_type": "stream",
     "text": [
      "gpt-4o-2024-08-06\n"
     ]
    }
   ],
   "source": [
    "# Printing the environment variable\n",
    "print(os.environ.get(\"GIT_BOB_LLM_NAME\", \"Variable not found\"))"
   ]
  },
  {
   "cell_type": "markdown",
   "id": "b4bbcdda",
   "metadata": {},
   "source": [
    "## Note\n",
    "\n",
    "If you do not see any output or the message \"Variable not found\", ensure that the `GIT_BOB_LLM_NAME` environment variable is set in your environment before running this notebook."
   ]
  }
 ],
 "metadata": {
  "language_info": {
   "codemirror_mode": {
    "name": "ipython",
    "version": 3
   },
   "file_extension": ".py",
   "mimetype": "text/x-python",
   "name": "python",
   "nbconvert_exporter": "python",
   "pygments_lexer": "ipython3",
   "version": "3.11.10"
  }
 },
 "nbformat": 4,
 "nbformat_minor": 5
}
