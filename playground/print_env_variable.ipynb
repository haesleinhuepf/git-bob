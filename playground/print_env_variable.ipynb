{
 "cells": [
  {
   "cell_type": "markdown",
   "metadata": {},
   "source": [
    "# Print Environment Variable in Jupyter Notebook\n",
    "\n",
    "In this notebook, we will print out the value of the environment variable `GIT_BOB_LLM_NAME`. This environment variable should be set in your system before running the notebook."
   ]
  },
  {
   "cell_type": "code",
   "execution_count": 1,
   "metadata": {
    "execution": {
     "iopub.execute_input": "2024-10-12T10:12:44.264128Z",
     "iopub.status.busy": "2024-10-12T10:12:44.263119Z",
     "iopub.status.idle": "2024-10-12T10:12:44.268365Z",
     "shell.execute_reply": "2024-10-12T10:12:44.268365Z"
    }
   },
   "outputs": [],
   "source": [
    "# Step 1: Import the os module\n",
    "import os"
   ]
  },
  {
   "cell_type": "markdown",
   "metadata": {},
   "source": [
    "## Check if the Environment Variable is Set\n",
    "\n",
    "In this step, we will check if the environment variable `GIT_BOB_LLM_NAME` is set, and if it is, we will print its value."
   ]
  },
  {
   "cell_type": "code",
   "execution_count": 2,
   "metadata": {
    "execution": {
     "iopub.execute_input": "2024-10-12T10:12:44.270371Z",
     "iopub.status.busy": "2024-10-12T10:12:44.269374Z",
     "iopub.status.idle": "2024-10-12T10:12:44.272844Z",
     "shell.execute_reply": "2024-10-12T10:12:44.272844Z"
    }
   },
   "outputs": [
    {
     "name": "stdout",
     "output_type": "stream",
     "text": [
      "Environment variable 'GIT_BOB_LLM_NAME' is not set.\n"
     ]
    }
   ],
   "source": [
    "# Step 2: Print the environment variable if it exists\n",
    "llm_name = os.environ.get(\"GIT_BOB_LLM_NAME\")\n",
    "\n",
    "if llm_name:\n",
    "    print(f\"GIT_BOB_LLM_NAME: {llm_name}\")\n",
    "else:\n",
    "    print(\"Environment variable 'GIT_BOB_LLM_NAME' is not set.\")"
   ]
  }
 ],
 "metadata": {
  "language_info": {
   "codemirror_mode": {
    "name": "ipython",
    "version": 3
   },
   "file_extension": ".py",
   "mimetype": "text/x-python",
   "name": "python",
   "nbconvert_exporter": "python",
   "pygments_lexer": "ipython3",
   "version": "3.11.10"
  }
 },
 "nbformat": 4,
 "nbformat_minor": 4
}
