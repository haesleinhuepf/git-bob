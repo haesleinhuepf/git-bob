{
 "cells": [
  {
   "cell_type": "markdown",
   "id": "2fc1ee5f",
   "metadata": {},
   "source": [
    "# Printing an Environment Variable in Python\n",
    "\n",
    "In this notebook, we'll demonstrate how to print an environment variable using Python's `os` library."
   ]
  },
  {
   "cell_type": "markdown",
   "id": "16054535",
   "metadata": {},
   "source": [
    "## Importing Required Libraries\n",
    "\n",
    "Firstly, we need to import the `os` library. This library provides a portable way of using operating system-dependent functionality, including accessing environment variables."
   ]
  },
  {
   "cell_type": "code",
   "execution_count": 1,
   "id": "7269308e",
   "metadata": {
    "execution": {
     "iopub.execute_input": "2024-10-12T11:16:01.305420Z",
     "iopub.status.busy": "2024-10-12T11:16:01.305420Z",
     "iopub.status.idle": "2024-10-12T11:16:01.310181Z",
     "shell.execute_reply": "2024-10-12T11:16:01.310181Z"
    }
   },
   "outputs": [],
   "source": [
    "import os"
   ]
  },
  {
   "cell_type": "markdown",
   "id": "ce9415ea",
   "metadata": {},
   "source": [
    "## Accessing the Environment Variable\n",
    "\n",
    "We will now access and print the environment variable `GIT_BOB_LLM_NAME`."
   ]
  },
  {
   "cell_type": "code",
   "execution_count": 2,
   "id": "9fcf6110",
   "metadata": {
    "execution": {
     "iopub.execute_input": "2024-10-12T11:16:01.311898Z",
     "iopub.status.busy": "2024-10-12T11:16:01.311898Z",
     "iopub.status.idle": "2024-10-12T11:16:01.314784Z",
     "shell.execute_reply": "2024-10-12T11:16:01.314784Z"
    }
   },
   "outputs": [
    {
     "name": "stdout",
     "output_type": "stream",
     "text": [
      "Variable not set\n"
     ]
    }
   ],
   "source": [
    "# Ensure the environment variable 'GIT_BOB_LLM_NAME' is set\n",
    "# os.environ['GIT_BOB_LLM_NAME'] = 'YourDesiredValue'  # Uncomment and set this if running in an environment where it's not set.\n",
    "\n",
    "# Fetch and print the environment variable\n",
    "git_bob_llm_name = os.environ.get('GIT_BOB_LLM_NAME', 'Variable not set')\n",
    "print(git_bob_llm_name)"
   ]
  }
 ],
 "metadata": {
  "language_info": {
   "codemirror_mode": {
    "name": "ipython",
    "version": 3
   },
   "file_extension": ".py",
   "mimetype": "text/x-python",
   "name": "python",
   "nbconvert_exporter": "python",
   "pygments_lexer": "ipython3",
   "version": "3.11.10"
  }
 },
 "nbformat": 4,
 "nbformat_minor": 5
}
