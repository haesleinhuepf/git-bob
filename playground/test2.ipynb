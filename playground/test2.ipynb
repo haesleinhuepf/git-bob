{
 "cells": [
  {
   "cell_type": "markdown",
   "metadata": {},
   "source": [
    "# Greeting Strings\n",
    "In this notebook, we will create two string variables and print them.\n",
    "Let's see how we can do it step-by-step."
   ]
  },
  {
   "cell_type": "code",
   "execution_count": 1,
   "metadata": {
    "execution": {
     "iopub.execute_input": "2024-09-28T17:38:07.074558Z",
     "iopub.status.busy": "2024-09-28T17:38:07.074558Z",
     "iopub.status.idle": "2024-09-28T17:38:07.085104Z",
     "shell.execute_reply": "2024-09-28T17:38:07.085104Z"
    }
   },
   "outputs": [
    {
     "data": {
      "text/plain": [
       "'hello'"
      ]
     },
     "execution_count": 1,
     "metadata": {},
     "output_type": "execute_result"
    }
   ],
   "source": [
    "# Step 1: Initialize the first string variable\n",
    "a = \"hello\"\n",
    "a"
   ]
  },
  {
   "cell_type": "markdown",
   "metadata": {},
   "source": [
    "Here, we have created a string variable `a` with the value \"hello\"."
   ]
  },
  {
   "cell_type": "code",
   "execution_count": 2,
   "metadata": {
    "execution": {
     "iopub.execute_input": "2024-09-28T17:38:07.117147Z",
     "iopub.status.busy": "2024-09-28T17:38:07.117147Z",
     "iopub.status.idle": "2024-09-28T17:38:07.123997Z",
     "shell.execute_reply": "2024-09-28T17:38:07.123997Z"
    }
   },
   "outputs": [
    {
     "data": {
      "text/plain": [
       "'world'"
      ]
     },
     "execution_count": 2,
     "metadata": {},
     "output_type": "execute_result"
    }
   ],
   "source": [
    "# Step 2: Initialize the second string variable\n",
    "b = \"world\"\n",
    "b"
   ]
  },
  {
   "cell_type": "markdown",
   "metadata": {},
   "source": [
    "Now, we have a second string variable `b` with the value \"world\"."
   ]
  },
  {
   "cell_type": "code",
   "execution_count": 3,
   "metadata": {
    "execution": {
     "iopub.execute_input": "2024-09-28T17:38:07.125554Z",
     "iopub.status.busy": "2024-09-28T17:38:07.125554Z",
     "iopub.status.idle": "2024-09-28T17:38:07.129201Z",
     "shell.execute_reply": "2024-09-28T17:38:07.129201Z"
    }
   },
   "outputs": [
    {
     "name": "stdout",
     "output_type": "stream",
     "text": [
      "world hello\n"
     ]
    }
   ],
   "source": [
    "# Step 3: Print the strings in reverse order\n",
    "print(b, a)"
   ]
  },
  {
   "cell_type": "markdown",
   "metadata": {},
   "source": [
    "The output of this print function will be \"world hello\" because we printed `b` first, then `a`."
   ]
  },
  {
   "cell_type": "markdown",
   "metadata": {},
   "source": [
    "### Exercise\n",
    "Try modifying the variables to create a different greeting, e.g., change `a` to \"goodbye\" and `b` to \"everyone\" and print them in a new order."
   ]
  }
 ],
 "metadata": {
  "language_info": {
   "codemirror_mode": {
    "name": "ipython",
    "version": 3
   },
   "file_extension": ".py",
   "mimetype": "text/x-python",
   "name": "python",
   "nbconvert_exporter": "python",
   "pygments_lexer": "ipython3",
   "version": "3.11.9"
  }
 },
 "nbformat": 4,
 "nbformat_minor": 4
}
