{
 "cells": [
  {
   "cell_type": "markdown",
   "id": null,
   "metadata": {},
   "source": [
    "### Introduction\n",
    "This notebook will demonstrate a basic operation with Python strings."
   ]
  },
  {
   "cell_type": "markdown",
   "id": "1c92d179",
   "metadata": {},
   "source": [
    "### Step 1: Assign Values to Variables\n",
    "We will start by assigning string values to two variables."
   ]
  },
  {
   "cell_type": "code",
   "execution_count": 1,
   "id": "2a784976",
   "metadata": {
    "execution": {
     "iopub.execute_input": "2024-09-28T17:33:06.082693Z",
     "iopub.status.busy": "2024-09-28T17:33:06.082693Z",
     "iopub.status.idle": "2024-09-28T17:33:06.090173Z",
     "shell.execute_reply": "2024-09-28T17:33:06.090173Z"
    }
   },
   "outputs": [],
   "source": [
    "a = \"hello\"\n",
    "b = \"world\""
   ]
  },
  {
   "cell_type": "markdown",
   "id": "be321262",
   "metadata": {},
   "source": [
    "### Step 2: Print the Variables\n",
    "Now we will print the variables in an order different from how they were assigned."
   ]
  },
  {
   "cell_type": "code",
   "execution_count": 2,
   "id": "0aceeb16",
   "metadata": {
    "execution": {
     "iopub.execute_input": "2024-09-28T17:33:06.092545Z",
     "iopub.status.busy": "2024-09-28T17:33:06.092545Z",
     "iopub.status.idle": "2024-09-28T17:33:06.095411Z",
     "shell.execute_reply": "2024-09-28T17:33:06.095411Z"
    }
   },
   "outputs": [
    {
     "name": "stdout",
     "output_type": "stream",
     "text": [
      "world hello\n"
     ]
    }
   ],
   "source": [
    "print(b, a)"
   ]
  },
  {
   "cell_type": "markdown",
   "id": "a2e46b81",
   "metadata": {},
   "source": [
    "### Exercise\n",
    "Try reversing the order of variables in the `print` function call! Change `print(b, a)` to `print(a, b)` and observe the output."
   ]
  }
 ],
 "metadata": {
  "language_info": {
   "codemirror_mode": {
    "name": "ipython",
    "version": 3
   },
   "file_extension": ".py",
   "mimetype": "text/x-python",
   "name": "python",
   "nbconvert_exporter": "python",
   "pygments_lexer": "ipython3",
   "version": "3.11.9"
  }
 },
 "nbformat": 4,
 "nbformat_minor": 5
}