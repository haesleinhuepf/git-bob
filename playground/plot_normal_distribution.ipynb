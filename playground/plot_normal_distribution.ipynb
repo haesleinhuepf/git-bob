{
 "cells": [
  {
   "cell_type": "markdown",
   "metadata": {},
   "source": [
    "# Plotting a Normal Distribution\n",
    "This notebook demonstrates how to plot a normal distribution using Python's `matplotlib` and `scipy` libraries."
   ]
  },
  {
   "cell_type": "code",
   "execution_count": 1,
   "metadata": {
    "execution": {
     "iopub.execute_input": "2024-10-12T11:52:23.157754Z",
     "iopub.status.busy": "2024-10-12T11:52:23.157572Z",
     "iopub.status.idle": "2024-10-12T11:52:24.175903Z",
     "shell.execute_reply": "2024-10-12T11:52:24.175385Z"
    }
   },
   "outputs": [],
   "source": [
    "# Importing necessary libraries\n",
    "import numpy as np\n",
    "import matplotlib.pyplot as plt\n",
    "from scipy.stats import norm"
   ]
  },
  {
   "cell_type": "markdown",
   "metadata": {},
   "source": [
    "## Generating data for the normal distribution\n",
    "We will define a range of data points and calculate the corresponding values of the normal distribution's probability density function (pdf)."
   ]
  },
  {
   "cell_type": "code",
   "execution_count": 2,
   "metadata": {
    "execution": {
     "iopub.execute_input": "2024-10-12T11:52:24.178284Z",
     "iopub.status.busy": "2024-10-12T11:52:24.177744Z",
     "iopub.status.idle": "2024-10-12T11:52:24.181431Z",
     "shell.execute_reply": "2024-10-12T11:52:24.180860Z"
    }
   },
   "outputs": [],
   "source": [
    "# Define the mean and standard deviation\n",
    "mean = 0\n",
    "std_dev = 1\n",
    "\n",
    "# Generate x values\n",
    "x = np.linspace(-5, 5, 100)\n",
    "\n",
    "# Compute the PDF values\n",
    "pdf_values = norm.pdf(x, mean, std_dev)"
   ]
  },
  {
   "cell_type": "markdown",
   "metadata": {},
   "source": [
    "## Plotting the normal distribution\n",
    "We will create a plot for the normal distribution and save it to a file."
   ]
  },
  {
   "cell_type": "code",
   "execution_count": 3,
   "metadata": {
    "execution": {
     "iopub.execute_input": "2024-10-12T11:52:24.183513Z",
     "iopub.status.busy": "2024-10-12T11:52:24.183071Z",
     "iopub.status.idle": "2024-10-12T11:52:24.293075Z",
     "shell.execute_reply": "2024-10-12T11:52:24.292406Z"
    }
   },
   "outputs": [],
   "source": [
    "# Plot the normal distribution\n",
    "plt.figure(figsize=(8, 5))\n",
    "plt.plot(x, pdf_values, label='Normal Distribution', color='blue')\n",
    "plt.title('Normal Distribution')\n",
    "plt.xlabel('x')\n",
    "plt.ylabel('PDF')\n",
    "plt.legend()\n",
    "plt.grid(True)\n",
    "\n",
    "# Save the plot\n",
    "plt.savefig('normal_distribution.png')\n",
    "plt.close()"
   ]
  }
 ],
 "metadata": {
  "language_info": {
   "codemirror_mode": {
    "name": "ipython",
    "version": 3
   },
   "file_extension": ".py",
   "mimetype": "text/x-python",
   "name": "python",
   "nbconvert_exporter": "python",
   "pygments_lexer": "ipython3",
   "version": "3.12.7"
  }
 },
 "nbformat": 4,
 "nbformat_minor": 4
}
