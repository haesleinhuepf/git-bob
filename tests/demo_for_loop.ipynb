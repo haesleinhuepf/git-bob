{
 "cells": [
  {
   "cell_type": "markdown",
   "id": "95324431",
   "metadata": {},
   "source": [
    "### Demonstration of a for-loop to output numbers between 0 and 10"
   ]
  },
  {
   "cell_type": "code",
   "execution_count": 1,
   "id": "2dacbc6d",
   "metadata": {
    "execution": {
     "iopub.execute_input": "2025-01-25T13:48:49.987698Z",
     "iopub.status.busy": "2025-01-25T13:48:49.987698Z",
     "iopub.status.idle": "2025-01-25T13:48:49.995286Z",
     "shell.execute_reply": "2025-01-25T13:48:49.995286Z"
    }
   },
   "outputs": [
    {
     "name": "stdout",
     "output_type": "stream",
     "text": [
      "0\n",
      "1\n",
      "2\n",
      "3\n",
      "4\n",
      "5\n",
      "6\n",
      "7\n",
      "8\n",
      "9\n",
      "10\n"
     ]
    }
   ],
   "source": [
    "# Using a for-loop to output numbers between 0 and 10\n",
    "for number in range(0, 11):\n",
    "    print(number)"
   ]
  },
  {
   "cell_type": "markdown",
   "id": "e65cb4bf",
   "metadata": {},
   "source": [
    "### Saving the numbers to a file for inspection"
   ]
  },
  {
   "cell_type": "code",
   "execution_count": 2,
   "id": "5ed01a8c",
   "metadata": {
    "execution": {
     "iopub.execute_input": "2025-01-25T13:48:49.997662Z",
     "iopub.status.busy": "2025-01-25T13:48:49.997662Z",
     "iopub.status.idle": "2025-01-25T13:48:50.000588Z",
     "shell.execute_reply": "2025-01-25T13:48:50.000588Z"
    }
   },
   "outputs": [],
   "source": [
    "# Save the output numbers to a .txt file\n",
    "with open(\"numbers_0_to_10.txt\", \"w\") as file:\n",
    "    for number in range(0, 11):\n",
    "        file.write(f\"{number}\\n\")"
   ]
  },
  {
   "cell_type": "markdown",
   "id": "32b3df52",
   "metadata": {},
   "source": [
    "### Confirm that the numbers are saved correctly"
   ]
  },
  {
   "cell_type": "code",
   "execution_count": 3,
   "id": "f5f4e51b",
   "metadata": {
    "execution": {
     "iopub.execute_input": "2025-01-25T13:48:50.002593Z",
     "iopub.status.busy": "2025-01-25T13:48:50.002593Z",
     "iopub.status.idle": "2025-01-25T13:48:50.006631Z",
     "shell.execute_reply": "2025-01-25T13:48:50.006631Z"
    }
   },
   "outputs": [
    {
     "name": "stdout",
     "output_type": "stream",
     "text": [
      "0\n",
      "1\n",
      "2\n",
      "3\n",
      "4\n",
      "5\n",
      "6\n",
      "7\n",
      "8\n",
      "9\n",
      "10\n"
     ]
    }
   ],
   "source": [
    "# Read back and print the saved numbers to confirm\n",
    "with open(\"numbers_0_to_10.txt\", \"r\") as file:\n",
    "    saved_numbers = file.readlines()\n",
    "    for line in saved_numbers:\n",
    "        print(line.strip())"
   ]
  }
 ],
 "metadata": {
  "language_info": {
   "codemirror_mode": {
    "name": "ipython",
    "version": 3
   },
   "file_extension": ".py",
   "mimetype": "text/x-python",
   "name": "python",
   "nbconvert_exporter": "python",
   "pygments_lexer": "ipython3",
   "version": "3.11.11"
  }
 },
 "nbformat": 4,
 "nbformat_minor": 5
}
