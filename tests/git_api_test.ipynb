{
 "cells": [
  {
   "cell_type": "markdown",
   "id": "5b32e79f-6b2a-400c-8858-add19aa920a5",
   "metadata": {},
   "source": [
    "# Git API test\n",
    "This notebook serves testing if the gitlab and github APIs are compatible."
   ]
  },
  {
   "cell_type": "code",
   "execution_count": 1,
   "id": "e429bc05-fb8b-4e02-83da-571d8520d746",
   "metadata": {
    "execution": {
     "iopub.execute_input": "2024-12-15T19:06:50.613803Z",
     "iopub.status.busy": "2024-12-15T19:06:50.613608Z",
     "iopub.status.idle": "2024-12-15T19:06:50.616909Z",
     "shell.execute_reply": "2024-12-15T19:06:50.616465Z"
    }
   },
   "outputs": [],
   "source": [
    "import os\n",
    "os.chdir(\"../\")"
   ]
  },
  {
   "cell_type": "code",
   "execution_count": 2,
   "id": "96ad607d-2d96-4d13-b15a-c82440036a75",
   "metadata": {
    "execution": {
     "iopub.execute_input": "2024-12-15T19:06:50.618402Z",
     "iopub.status.busy": "2024-12-15T19:06:50.618235Z",
     "iopub.status.idle": "2024-12-15T19:06:50.690483Z",
     "shell.execute_reply": "2024-12-15T19:06:50.689886Z"
    }
   },
   "outputs": [],
   "source": [
    "import git_bob._gitlab_utilities as gu1\n",
    "import git_bob._github_utilities as gu2"
   ]
  },
  {
   "cell_type": "code",
   "execution_count": 3,
   "id": "0e5a8835-57bb-4058-bade-67a8e24d5bd7",
   "metadata": {
    "execution": {
     "iopub.execute_input": "2024-12-15T19:06:50.692241Z",
     "iopub.status.busy": "2024-12-15T19:06:50.692069Z",
     "iopub.status.idle": "2024-12-15T19:06:50.694848Z",
     "shell.execute_reply": "2024-12-15T19:06:50.694282Z"
    }
   },
   "outputs": [],
   "source": [
    "repository = \"haesleinhuepf/git-bob\""
   ]
  },
  {
   "cell_type": "code",
   "execution_count": 4,
   "id": "33069017-7031-4acd-aa4c-1b4e22d3f391",
   "metadata": {
    "execution": {
     "iopub.execute_input": "2024-12-15T19:06:50.696397Z",
     "iopub.status.busy": "2024-12-15T19:06:50.696224Z",
     "iopub.status.idle": "2024-12-15T19:06:50.699408Z",
     "shell.execute_reply": "2024-12-15T19:06:50.698950Z"
    }
   },
   "outputs": [
    {
     "name": "stdout",
     "output_type": "stream",
     "text": [
      "<module 'git_bob._gitlab_utilities' from '/home/runner/work/git-bob/git-bob/src/git_bob/_gitlab_utilities.py'> \n",
      "\n",
      "\n",
      "<module 'git_bob._github_utilities' from '/home/runner/work/git-bob/git-bob/src/git_bob/_github_utilities.py'> \n",
      "\n",
      "\n"
     ]
    }
   ],
   "source": [
    "for gu in [gu1, gu2]:\n",
    "    print(gu, \"\\n\\n\")"
   ]
  },
  {
   "cell_type": "code",
   "execution_count": 5,
   "id": "f4582ea8-6b9c-4953-9705-e967ae625c6b",
   "metadata": {
    "execution": {
     "iopub.execute_input": "2024-12-15T19:06:50.701004Z",
     "iopub.status.busy": "2024-12-15T19:06:50.700835Z",
     "iopub.status.idle": "2024-12-15T19:06:51.349068Z",
     "shell.execute_reply": "2024-12-15T19:06:51.348467Z"
    }
   },
   "outputs": [
    {
     "name": "stdout",
     "output_type": "stream",
     "text": [
      "git_server_url https://github.com/\n",
      "repository haesleinhuepf/git-bob\n",
      "Error occurred: 404: Not Found \n",
      "\n",
      "\n"
     ]
    },
    {
     "name": "stdout",
     "output_type": "stream",
     "text": [
      "main \n",
      "\n",
      "\n"
     ]
    }
   ],
   "source": [
    "for gu in [gu1, gu2]:\n",
    "    if hasattr(gu, 'get_default_branch_name'):\n",
    "        try:\n",
    "            print(gu.get_default_branch_name(repository), \"\\n\\n\")\n",
    "        except Exception as e:\n",
    "            print(f\"Error occurred: {e}\", \"\\n\\n\")\n",
    "    else:\n",
    "        print(f\"{gu} does not support get_default_branch_name\", \"\\n\\n\")\n"
   ]
  },
  {
   "cell_type": "code",
   "execution_count": 6,
   "id": "b86d90cf-e19a-4fb0-8ea4-1e2c2b921851",
   "metadata": {
    "execution": {
     "iopub.execute_input": "2024-12-15T19:06:51.351009Z",
     "iopub.status.busy": "2024-12-15T19:06:51.350754Z",
     "iopub.status.idle": "2024-12-15T19:06:51.803604Z",
     "shell.execute_reply": "2024-12-15T19:06:51.802738Z"
    }
   },
   "outputs": [
    {
     "name": "stdout",
     "output_type": "stream",
     "text": [
      "-> add_reaction_to_last_comment_in_issue(haesleinhuepf/git-bob, 1, +1)\n",
      "git_server_url https://github.com/\n",
      "repository haesleinhuepf/git-bob\n"
     ]
    },
    {
     "ename": "GitlabGetError",
     "evalue": "404: Not Found",
     "output_type": "error",
     "traceback": [
      "\u001b[0;31m---------------------------------------------------------------------------\u001b[0m",
      "\u001b[0;31mGitlabHttpError\u001b[0m                           Traceback (most recent call last)",
      "File \u001b[0;32m/opt/hostedtoolcache/Python/3.12.8/x64/lib/python3.12/site-packages/gitlab/exceptions.py:344\u001b[0m, in \u001b[0;36mon_http_error.<locals>.wrap.<locals>.wrapped_f\u001b[0;34m(*args, **kwargs)\u001b[0m\n\u001b[1;32m    343\u001b[0m \u001b[38;5;28;01mtry\u001b[39;00m:\n\u001b[0;32m--> 344\u001b[0m     \u001b[38;5;28;01mreturn\u001b[39;00m \u001b[43mf\u001b[49m\u001b[43m(\u001b[49m\u001b[38;5;241;43m*\u001b[39;49m\u001b[43margs\u001b[49m\u001b[43m,\u001b[49m\u001b[43m \u001b[49m\u001b[38;5;241;43m*\u001b[39;49m\u001b[38;5;241;43m*\u001b[39;49m\u001b[43mkwargs\u001b[49m\u001b[43m)\u001b[49m\n\u001b[1;32m    345\u001b[0m \u001b[38;5;28;01mexcept\u001b[39;00m GitlabHttpError \u001b[38;5;28;01mas\u001b[39;00m e:\n",
      "File \u001b[0;32m/opt/hostedtoolcache/Python/3.12.8/x64/lib/python3.12/site-packages/gitlab/mixins.py:123\u001b[0m, in \u001b[0;36mGetMixin.get\u001b[0;34m(self, id, lazy, **kwargs)\u001b[0m\n\u001b[1;32m    122\u001b[0m     \u001b[38;5;28;01mreturn\u001b[39;00m \u001b[38;5;28mself\u001b[39m\u001b[38;5;241m.\u001b[39m_obj_cls(\u001b[38;5;28mself\u001b[39m, {\u001b[38;5;28mself\u001b[39m\u001b[38;5;241m.\u001b[39m_obj_cls\u001b[38;5;241m.\u001b[39m_id_attr: \u001b[38;5;28mid\u001b[39m}, lazy\u001b[38;5;241m=\u001b[39mlazy)\n\u001b[0;32m--> 123\u001b[0m server_data \u001b[38;5;241m=\u001b[39m \u001b[38;5;28;43mself\u001b[39;49m\u001b[38;5;241;43m.\u001b[39;49m\u001b[43mgitlab\u001b[49m\u001b[38;5;241;43m.\u001b[39;49m\u001b[43mhttp_get\u001b[49m\u001b[43m(\u001b[49m\u001b[43mpath\u001b[49m\u001b[43m,\u001b[49m\u001b[43m \u001b[49m\u001b[38;5;241;43m*\u001b[39;49m\u001b[38;5;241;43m*\u001b[39;49m\u001b[43mkwargs\u001b[49m\u001b[43m)\u001b[49m\n\u001b[1;32m    124\u001b[0m \u001b[38;5;28;01mif\u001b[39;00m TYPE_CHECKING:\n",
      "File \u001b[0;32m/opt/hostedtoolcache/Python/3.12.8/x64/lib/python3.12/site-packages/gitlab/client.py:807\u001b[0m, in \u001b[0;36mGitlab.http_get\u001b[0;34m(self, path, query_data, streamed, raw, **kwargs)\u001b[0m\n\u001b[1;32m    806\u001b[0m query_data \u001b[38;5;241m=\u001b[39m query_data \u001b[38;5;129;01mor\u001b[39;00m {}\n\u001b[0;32m--> 807\u001b[0m result \u001b[38;5;241m=\u001b[39m \u001b[38;5;28;43mself\u001b[39;49m\u001b[38;5;241;43m.\u001b[39;49m\u001b[43mhttp_request\u001b[49m\u001b[43m(\u001b[49m\n\u001b[1;32m    808\u001b[0m \u001b[43m    \u001b[49m\u001b[38;5;124;43m\"\u001b[39;49m\u001b[38;5;124;43mget\u001b[39;49m\u001b[38;5;124;43m\"\u001b[39;49m\u001b[43m,\u001b[49m\u001b[43m \u001b[49m\u001b[43mpath\u001b[49m\u001b[43m,\u001b[49m\u001b[43m \u001b[49m\u001b[43mquery_data\u001b[49m\u001b[38;5;241;43m=\u001b[39;49m\u001b[43mquery_data\u001b[49m\u001b[43m,\u001b[49m\u001b[43m \u001b[49m\u001b[43mstreamed\u001b[49m\u001b[38;5;241;43m=\u001b[39;49m\u001b[43mstreamed\u001b[49m\u001b[43m,\u001b[49m\u001b[43m \u001b[49m\u001b[38;5;241;43m*\u001b[39;49m\u001b[38;5;241;43m*\u001b[39;49m\u001b[43mkwargs\u001b[49m\n\u001b[1;32m    809\u001b[0m \u001b[43m\u001b[49m\u001b[43m)\u001b[49m\n\u001b[1;32m    810\u001b[0m content_type \u001b[38;5;241m=\u001b[39m utils\u001b[38;5;241m.\u001b[39mget_content_type(result\u001b[38;5;241m.\u001b[39mheaders\u001b[38;5;241m.\u001b[39mget(\u001b[38;5;124m\"\u001b[39m\u001b[38;5;124mContent-Type\u001b[39m\u001b[38;5;124m\"\u001b[39m))\n",
      "File \u001b[0;32m/opt/hostedtoolcache/Python/3.12.8/x64/lib/python3.12/site-packages/gitlab/client.py:773\u001b[0m, in \u001b[0;36mGitlab.http_request\u001b[0;34m(self, verb, path, query_data, post_data, raw, streamed, files, timeout, obey_rate_limit, retry_transient_errors, max_retries, **kwargs)\u001b[0m\n\u001b[1;32m    767\u001b[0m     \u001b[38;5;28;01mraise\u001b[39;00m gitlab\u001b[38;5;241m.\u001b[39mexceptions\u001b[38;5;241m.\u001b[39mGitlabAuthenticationError(\n\u001b[1;32m    768\u001b[0m         response_code\u001b[38;5;241m=\u001b[39mresult\u001b[38;5;241m.\u001b[39mstatus_code,\n\u001b[1;32m    769\u001b[0m         error_message\u001b[38;5;241m=\u001b[39merror_message,\n\u001b[1;32m    770\u001b[0m         response_body\u001b[38;5;241m=\u001b[39mresult\u001b[38;5;241m.\u001b[39mcontent,\n\u001b[1;32m    771\u001b[0m     )\n\u001b[0;32m--> 773\u001b[0m \u001b[38;5;28;01mraise\u001b[39;00m gitlab\u001b[38;5;241m.\u001b[39mexceptions\u001b[38;5;241m.\u001b[39mGitlabHttpError(\n\u001b[1;32m    774\u001b[0m     response_code\u001b[38;5;241m=\u001b[39mresult\u001b[38;5;241m.\u001b[39mstatus_code,\n\u001b[1;32m    775\u001b[0m     error_message\u001b[38;5;241m=\u001b[39merror_message,\n\u001b[1;32m    776\u001b[0m     response_body\u001b[38;5;241m=\u001b[39mresult\u001b[38;5;241m.\u001b[39mcontent,\n\u001b[1;32m    777\u001b[0m )\n",
      "\u001b[0;31mGitlabHttpError\u001b[0m: 404: Not Found",
      "\nThe above exception was the direct cause of the following exception:\n",
      "\u001b[0;31mGitlabGetError\u001b[0m                            Traceback (most recent call last)",
      "Cell \u001b[0;32mIn[6], line 2\u001b[0m\n\u001b[1;32m      1\u001b[0m \u001b[38;5;28;01mfor\u001b[39;00m gu \u001b[38;5;129;01min\u001b[39;00m [gu1, gu2]:\n\u001b[0;32m----> 2\u001b[0m     \u001b[38;5;28mprint\u001b[39m(\u001b[43mgu\u001b[49m\u001b[38;5;241;43m.\u001b[39;49m\u001b[43madd_reaction_to_last_comment_in_issue\u001b[49m\u001b[43m(\u001b[49m\u001b[43mrepository\u001b[49m\u001b[43m,\u001b[49m\u001b[43m \u001b[49m\u001b[38;5;241;43m1\u001b[39;49m\u001b[43m,\u001b[49m\u001b[43m \u001b[49m\u001b[38;5;124;43m\"\u001b[39;49m\u001b[38;5;124;43m+1\u001b[39;49m\u001b[38;5;124;43m\"\u001b[39;49m\u001b[43m)\u001b[49m, \u001b[38;5;124m\"\u001b[39m\u001b[38;5;130;01m\\n\u001b[39;00m\u001b[38;5;130;01m\\n\u001b[39;00m\u001b[38;5;124m\"\u001b[39m)\n",
      "File \u001b[0;32m~/work/git-bob/git-bob/src/git_bob/_gitlab_utilities.py:600\u001b[0m, in \u001b[0;36madd_reaction_to_last_comment_in_issue\u001b[0;34m(repository, issue, reaction)\u001b[0m\n\u001b[1;32m    598\u001b[0m Log()\u001b[38;5;241m.\u001b[39mlog(\u001b[38;5;124mf\u001b[39m\u001b[38;5;124m\"\u001b[39m\u001b[38;5;124m-> add_reaction_to_last_comment_in_issue(\u001b[39m\u001b[38;5;132;01m{\u001b[39;00mrepository\u001b[38;5;132;01m}\u001b[39;00m\u001b[38;5;124m, \u001b[39m\u001b[38;5;132;01m{\u001b[39;00missue\u001b[38;5;132;01m}\u001b[39;00m\u001b[38;5;124m, \u001b[39m\u001b[38;5;132;01m{\u001b[39;00mreaction\u001b[38;5;132;01m}\u001b[39;00m\u001b[38;5;124m)\u001b[39m\u001b[38;5;124m\"\u001b[39m)\n\u001b[1;32m    599\u001b[0m \u001b[38;5;28;01mfrom\u001b[39;00m \u001b[38;5;21;01mdatetime\u001b[39;00m \u001b[38;5;28;01mimport\u001b[39;00m datetime\n\u001b[0;32m--> 600\u001b[0m project \u001b[38;5;241m=\u001b[39m \u001b[43mget_repository_handle\u001b[49m\u001b[43m(\u001b[49m\u001b[43mrepository\u001b[49m\u001b[43m)\u001b[49m\n\u001b[1;32m    601\u001b[0m issue \u001b[38;5;241m=\u001b[39m project\u001b[38;5;241m.\u001b[39missues\u001b[38;5;241m.\u001b[39mget(issue)\n\u001b[1;32m    602\u001b[0m notes \u001b[38;5;241m=\u001b[39m issue\u001b[38;5;241m.\u001b[39mnotes\u001b[38;5;241m.\u001b[39mlist()\n",
      "File \u001b[0;32m~/work/git-bob/git-bob/src/git_bob/_gitlab_utilities.py:30\u001b[0m, in \u001b[0;36mget_repository_handle\u001b[0;34m(repository)\u001b[0m\n\u001b[1;32m     28\u001b[0m \u001b[38;5;28mprint\u001b[39m(\u001b[38;5;124m\"\u001b[39m\u001b[38;5;124mrepository\u001b[39m\u001b[38;5;124m\"\u001b[39m, repository)\n\u001b[1;32m     29\u001b[0m gl \u001b[38;5;241m=\u001b[39m gitlab\u001b[38;5;241m.\u001b[39mGitlab(url\u001b[38;5;241m=\u001b[39mgit_server_url, private_token\u001b[38;5;241m=\u001b[39maccess_token)\n\u001b[0;32m---> 30\u001b[0m \u001b[38;5;28;01mreturn\u001b[39;00m \u001b[43mgl\u001b[49m\u001b[38;5;241;43m.\u001b[39;49m\u001b[43mprojects\u001b[49m\u001b[38;5;241;43m.\u001b[39;49m\u001b[43mget\u001b[49m\u001b[43m(\u001b[49m\u001b[43mrepository\u001b[49m\u001b[43m)\u001b[49m\n",
      "File \u001b[0;32m/opt/hostedtoolcache/Python/3.12.8/x64/lib/python3.12/site-packages/gitlab/v4/objects/projects.py:796\u001b[0m, in \u001b[0;36mProjectManager.get\u001b[0;34m(self, id, lazy, **kwargs)\u001b[0m\n\u001b[1;32m    795\u001b[0m \u001b[38;5;28;01mdef\u001b[39;00m \u001b[38;5;21mget\u001b[39m(\u001b[38;5;28mself\u001b[39m, \u001b[38;5;28mid\u001b[39m: Union[\u001b[38;5;28mstr\u001b[39m, \u001b[38;5;28mint\u001b[39m], lazy: \u001b[38;5;28mbool\u001b[39m \u001b[38;5;241m=\u001b[39m \u001b[38;5;28;01mFalse\u001b[39;00m, \u001b[38;5;241m*\u001b[39m\u001b[38;5;241m*\u001b[39mkwargs: Any) \u001b[38;5;241m-\u001b[39m\u001b[38;5;241m>\u001b[39m Project:\n\u001b[0;32m--> 796\u001b[0m     \u001b[38;5;28;01mreturn\u001b[39;00m cast(Project, \u001b[38;5;28;43msuper\u001b[39;49m\u001b[43m(\u001b[49m\u001b[43m)\u001b[49m\u001b[38;5;241;43m.\u001b[39;49m\u001b[43mget\u001b[49m\u001b[43m(\u001b[49m\u001b[38;5;28;43mid\u001b[39;49m\u001b[38;5;241;43m=\u001b[39;49m\u001b[38;5;28;43mid\u001b[39;49m\u001b[43m,\u001b[49m\u001b[43m \u001b[49m\u001b[43mlazy\u001b[49m\u001b[38;5;241;43m=\u001b[39;49m\u001b[43mlazy\u001b[49m\u001b[43m,\u001b[49m\u001b[43m \u001b[49m\u001b[38;5;241;43m*\u001b[39;49m\u001b[38;5;241;43m*\u001b[39;49m\u001b[43mkwargs\u001b[49m\u001b[43m)\u001b[49m)\n",
      "File \u001b[0;32m/opt/hostedtoolcache/Python/3.12.8/x64/lib/python3.12/site-packages/gitlab/exceptions.py:346\u001b[0m, in \u001b[0;36mon_http_error.<locals>.wrap.<locals>.wrapped_f\u001b[0;34m(*args, **kwargs)\u001b[0m\n\u001b[1;32m    344\u001b[0m     \u001b[38;5;28;01mreturn\u001b[39;00m f(\u001b[38;5;241m*\u001b[39margs, \u001b[38;5;241m*\u001b[39m\u001b[38;5;241m*\u001b[39mkwargs)\n\u001b[1;32m    345\u001b[0m \u001b[38;5;28;01mexcept\u001b[39;00m GitlabHttpError \u001b[38;5;28;01mas\u001b[39;00m e:\n\u001b[0;32m--> 346\u001b[0m     \u001b[38;5;28;01mraise\u001b[39;00m error(e\u001b[38;5;241m.\u001b[39merror_message, e\u001b[38;5;241m.\u001b[39mresponse_code, e\u001b[38;5;241m.\u001b[39mresponse_body) \u001b[38;5;28;01mfrom\u001b[39;00m \u001b[38;5;21;01me\u001b[39;00m\n",
      "\u001b[0;31mGitlabGetError\u001b[0m: 404: Not Found"
     ]
    }
   ],
   "source": [
    "for gu in [gu1, gu2]:\n",
    "    print(gu.add_reaction_to_last_comment_in_issue(repository, 1, \"+1\"), \"\\n\\n\")"
   ]
  },
  {
   "cell_type": "code",
   "execution_count": null,
   "id": "8e1cdbcf-3f6c-4232-9fc5-10b00688c9d3",
   "metadata": {},
   "outputs": [],
   "source": [
    "from datetime import datetime\n",
    "\n",
    "current_datetime = datetime.now().strftime(\"%Y-%m-%d %H:%M:%S\")\n",
    "\n",
    "for gu in [gu1, gu2]:\n",
    "    issue = gu.create_issue(repository, \"test4fun\", \"hello world again\")\n",
    "    print(issue)\n",
    "    print(gu.add_reaction_to_last_comment_in_issue(repository, issue, \"+1\"), \"\\n\\n\")\n",
    "    print(gu.add_comment_to_issue(repository, issue, \"hello world \" + current_datetime), \"\\n\\n\")\n",
    "    print(gu.add_reaction_to_last_comment_in_issue(repository, issue, \"+1\"), \"\\n\\n\")\n",
    "    "
   ]
  },
  {
   "cell_type": "code",
   "execution_count": null,
   "id": "f10f007f-a52e-4132-a801-41550cd1d45e",
   "metadata": {},
   "outputs": [],
   "source": [
    "for gu, pr in zip([gu1, gu2], [2, 387]):\n",
    "    print(gu.get_diff_of_pull_request(repository, pr))"
   ]
  },
  {
   "cell_type": "code",
   "execution_count": null,
   "id": "4a77f950-580b-4246-a201-0327f8b80517",
   "metadata": {},
   "outputs": [],
   "source": [
    "gu1_branch = gu1.create_branch(repository)\n",
    "gu2_branch = gu2.create_branch(repository)\n",
    "\n",
    "print(gu1_branch)\n",
    "print(gu2_branch)"
   ]
  },
  {
   "cell_type": "code",
   "execution_count": null,
   "id": "1dc52b1b-71c6-44e3-aa5c-a6fe9a755608",
   "metadata": {},
   "outputs": [],
   "source": [
    "for gu, branch in zip([gu1, gu2], [gu1_branch, gu2_branch]):\n",
    "    print(gu.write_file_in_branch(repository, branch, \"playground/test.txt\", \"hello-world\"), \"\\n\\n\")"
   ]
  },
  {
   "cell_type": "code",
   "execution_count": null,
   "id": "feb42d6c-1652-4b0e-b6b7-88dc1708411a",
   "metadata": {},
   "outputs": [],
   "source": [
    "for gu, branch in zip([gu1, gu2], [gu1_branch, gu2_branch]):\n",
    "    print(gu.get_diff_of_branches(repository, branch, \"main\"), \"\\n\\n\")\n",
    "    "
   ]
  },
  {
   "cell_type": "code",
   "execution_count": null,
   "id": "717c69e7-efcf-45ab-8513-1f2f25408723",
   "metadata": {},
   "outputs": [],
   "source": [
    "for gu, branch in zip([gu1, gu2], [gu1_branch, gu2_branch]):\n",
    "    print(gu.check_if_file_exists(repository, branch, \"playground/test.txt\"), \"\\n\\n\")"
   ]
  },
  {
   "cell_type": "code",
   "execution_count": null,
   "id": "e24f7926-b96a-4fa5-a9ae-8b660f95ca9a",
   "metadata": {},
   "outputs": [],
   "source": [
    "for gu, branch in zip([gu1, gu2], [gu1_branch, gu2_branch]):\n",
    "    print(gu.check_if_file_exists(repository, branch, \"playground/blub.txt\"), \"\\n\\n\")"
   ]
  },
  {
   "cell_type": "code",
   "execution_count": null,
   "id": "ffa99d44-aa29-49d2-8254-121d81f25f9d",
   "metadata": {},
   "outputs": [],
   "source": [
    "for gu, branch in zip([gu1, gu2], [gu1_branch, gu2_branch]):\n",
    "    print(gu.copy_file_in_repository(repository, branch, \"playground/test.txt\", \"playground/blub2.txt\"), \"\\n\\n\")\n",
    "    print(gu.copy_file_in_repository(repository, branch, \"playground/test.txt\", \"playground/blub3.txt\"), \"\\n\\n\")\n"
   ]
  },
  {
   "cell_type": "code",
   "execution_count": null,
   "id": "79cd1650-28fc-461b-921e-ec4e6a5dfdca",
   "metadata": {},
   "outputs": [],
   "source": [
    "for gu, branch in zip([gu1, gu2], [gu1_branch, gu2_branch]):\n",
    "    print(gu.rename_file_in_repository(repository, branch, \"playground/test.txt\", \"playground/blub.txt\"), \"\\n\\n\")\n"
   ]
  },
  {
   "cell_type": "code",
   "execution_count": null,
   "id": "b94bd5b1-1fdd-427d-9307-94d951ef0ed1",
   "metadata": {},
   "outputs": [],
   "source": [
    "for gu, branch in zip([gu1, gu2], [gu1_branch, gu2_branch]):\n",
    "    print(gu.check_if_file_exists(repository, branch, \"playground/blub.txt\"), \"\\n\\n\")"
   ]
  },
  {
   "cell_type": "code",
   "execution_count": null,
   "id": "4d78779a-df02-428f-9f98-0e5be2c89263",
   "metadata": {},
   "outputs": [],
   "source": [
    "for gu, branch in zip([gu1, gu2], [gu1_branch, gu2_branch]):\n",
    "    print(gu.download_to_repository(repository, branch, \"https://github.com/user-attachments/assets/da6456bb-7bdf-4ad8-8f0d-95e38fa110e9\", \"playground/image.png\"), \"\\n\\n\")\n"
   ]
  },
  {
   "cell_type": "code",
   "execution_count": null,
   "id": "4c3f6d60-0b88-410e-9a13-0352634cfb6b",
   "metadata": {},
   "outputs": [],
   "source": [
    "for gu, branch in zip([gu1, gu2], [gu1_branch, gu2_branch]):\n",
    "    print(gu.check_if_file_exists(repository, branch, \"playground/image.png\"), \"\\n\\n\")"
   ]
  },
  {
   "cell_type": "code",
   "execution_count": null,
   "id": "4905226a-e114-4161-ac9d-140f019e2c55",
   "metadata": {},
   "outputs": [],
   "source": [
    "for gu, branch in zip([gu1, gu2], [gu1_branch, gu2_branch]):\n",
    "    print(gu.check_if_file_exists(repository, branch, \"playground/blub.txt\"), \"\\n\\n\")"
   ]
  },
  {
   "cell_type": "code",
   "execution_count": null,
   "id": "31ec2874-ac04-4b36-9a1a-d6997c8e937e",
   "metadata": {},
   "outputs": [],
   "source": [
    "for gu, branch in zip([gu1, gu2], [gu1_branch, gu2_branch]):\n",
    "    print(gu.delete_file_from_repository(repository, branch, \"playground/blub2.txt\"), \"\\n\\n\")\n"
   ]
  },
  {
   "cell_type": "code",
   "execution_count": null,
   "id": "7d641aca-57d0-41ee-bb65-53fd5eab36ca",
   "metadata": {},
   "outputs": [],
   "source": [
    "for gu, branch in zip([gu1, gu2], [gu1_branch, gu2_branch]):\n",
    "    print(gu.check_if_file_exists(repository, branch, \"playground/blub.txt\"), \"\\n\\n\")"
   ]
  },
  {
   "cell_type": "code",
   "execution_count": null,
   "id": "6a39c9c7-63a9-4dc3-9a13-6c89f2306a3a",
   "metadata": {},
   "outputs": [],
   "source": [
    "for gu, branch in zip([gu1, gu2], [gu1_branch, gu2_branch]):\n",
    "    print(gu.decode_file(gu.get_file_in_repository(repository, branch, \"playground/blub3.txt\")), \"\\n\\n\")"
   ]
  },
  {
   "cell_type": "code",
   "execution_count": null,
   "id": "c7b0c3b7-33c7-41a1-b41b-7092eba53ac7",
   "metadata": {},
   "outputs": [],
   "source": [
    "for gu, branch in zip([gu1, gu2], [gu1_branch, gu2_branch]):\n",
    "    print(gu.send_pull_request(repository, branch, \"main\", \"test-pr\", \"hello world pr\"), \"\\n\\n\")"
   ]
  },
  {
   "cell_type": "code",
   "execution_count": null,
   "id": "fbf3868d-fcea-4376-bdcb-36f81a8ceb02",
   "metadata": {},
   "outputs": [],
   "source": []
  },
  {
   "cell_type": "code",
   "execution_count": null,
   "id": "33dffa0d-32ca-4b2b-a4e9-b231a14c7783",
   "metadata": {},
   "outputs": [],
   "source": [
    "for gu in [gu1, gu2]:\n",
    "    print(gu.check_access_and_ask_for_approval(\"haesleinhuepf\", repository, 1), \"\\n\\n\")"
   ]
  },
  {
   "cell_type": "code",
   "execution_count": null,
   "id": "fe337023-e7bf-4ca5-885c-8d5095c5a5cb",
   "metadata": {},
   "outputs": [],
   "source": [
    "for gu in [gu1, gu2]:\n",
    "    print(gu.check_access_and_ask_for_approval(\"ddd\", repository, 1), \"\\n\\n\")"
   ]
  },
  {
   "cell_type": "code",
   "execution_count": null,
   "id": "7a7a81bd-85ba-4c40-a324-852e8d2ebf7b",
   "metadata": {},
   "outputs": [],
   "source": [
    "for gu in [gu1, gu2]:\n",
    "    print(gu.get_contributors(repository), \"\\n\\n\")"
   ]
  },
  {
   "cell_type": "code",
   "execution_count": null,
   "id": "d8cb48ac-5f1a-4e70-b13c-516427c0cf63",
   "metadata": {},
   "outputs": [],
   "source": [
    "for gu in [gu1, gu2]:\n",
    "    print(str(gu.get_repository_file_contents(repository, \"main\", [\"playground/test.py\"]))[:100], \"\\n\\n\")"
   ]
  },
  {
   "cell_type": "code",
   "execution_count": null,
   "id": "a5c1f71d-25f5-4c14-a64c-09fe27018b93",
   "metadata": {},
   "outputs": [],
   "source": [
    "for gu in [gu1, gu2]:\n",
    "    print(gu.list_repository_files(repository), \"\\n\\n\")"
   ]
  },
  {
   "cell_type": "code",
   "execution_count": null,
   "id": "328bbb94-4059-4d00-befc-66b4f9455bb3",
   "metadata": {},
   "outputs": [],
   "source": [
    "for gu in [gu1, gu2]:\n",
    "    print(str(gu.get_issue_details(repository, 1))[:200], \"\\n\\n\")"
   ]
  },
  {
   "cell_type": "code",
   "execution_count": null,
   "id": "c76d9fba-4516-4a99-b09b-a0661369ee19",
   "metadata": {},
   "outputs": [],
   "source": [
    "for gu in [gu1, gu2]:\n",
    "    print(gu.list_issues(repository), \"\\n\\n\")"
   ]
  },
  {
   "cell_type": "code",
   "execution_count": null,
   "id": "f0adf7d9-f58f-4061-a5d8-d9722b8c0949",
   "metadata": {},
   "outputs": [],
   "source": [
    "for gu in [gu1, gu2]:\n",
    "    print(gu.get_most_recent_comment_on_issue(repository, 1), \"\\n\\n\")\n"
   ]
  },
  {
   "cell_type": "code",
   "execution_count": null,
   "id": "98c59d84-f549-4750-a657-0e89027298a1",
   "metadata": {},
   "outputs": [],
   "source": [
    "## super slow, see https://github.com/haesleinhuepf/git-bob/issues/385\n",
    "# for gu in [gu1, gu2]:\n",
    "#    print(gu.get_most_recently_commented_issue(repository), \"\\n\\n\")"
   ]
  },
  {
   "cell_type": "code",
   "execution_count": null,
   "id": "132c7c85-32bd-46c5-b91d-d66237af7439",
   "metadata": {},
   "outputs": [],
   "source": [
    "for gu in [gu1, gu2]:\n",
    "    print(gu.get_conversation_on_issue(repository, 1)[:100], \"\\n\\n\")"
   ]
  },
  {
   "cell_type": "code",
   "execution_count": null,
   "id": "e6cbb2d0-efed-494e-bff9-2e4df3732bf9",
   "metadata": {},
   "outputs": [],
   "source": [
    "from datetime import datetime\n",
    "\n",
    "current_datetime = datetime.now().strftime(\"%Y-%m-%d %H:%M:%S\")\n",
    "\n",
    "for gu in [gu1, gu2]:\n",
    "    print(gu.add_comment_to_issue(repository, 1, \"hello world \" + current_datetime), \"\\n\\n\")"
   ]
  },
  {
   "cell_type": "code",
   "execution_count": null,
   "id": "58c0e9ed-f9c4-494d-808a-b56948a2a394",
   "metadata": {},
   "outputs": [],
   "source": [
    "for gu in [gu1, gu2]:\n",
    "    print(str(gu.get_repository_handle(repository))[:50], \"\\n\\n\")"
   ]
  },
  {
   "cell_type": "code",
   "execution_count": null,
   "id": "783b2898-bb3c-4e62-847e-9fdf95a565e9",
   "metadata": {},
   "outputs": [],
   "source": []
  },
  {
   "cell_type": "code",
   "execution_count": null,
   "id": "7360a055-639c-438f-b542-191a87430e57",
   "metadata": {},
   "outputs": [],
   "source": []
  },
  {
   "cell_type": "code",
   "execution_count": null,
   "id": "53f8a081-49d9-454b-8bce-ec151caccf13",
   "metadata": {},
   "outputs": [],
   "source": []
  },
  {
   "cell_type": "code",
   "execution_count": null,
   "id": "856d036e-790d-4862-91da-6ce78130721c",
   "metadata": {},
   "outputs": [],
   "source": []
  },
  {
   "cell_type": "markdown",
   "id": "c4c93835-9dcb-4eef-9c1f-dc30e480db49",
   "metadata": {},
   "source": [
    "# Sandbox Execution of Python Code\n",
    "We will execute Python code in a sandbox using the `execnet` library."
   ]
  },
  {
   "cell_type": "code",
   "execution_count": null,
   "id": "72e9f123-bfef-4f2f-a18e-5a5d7a89b726",
   "metadata": {},
   "outputs": [],
   "source": [
    "!pip install execnet"
   ]
  },
  {
   "cell_type": "code",
   "execution_count": null,
   "id": "7e6d8c62-45e5-49ca-87bf-34ff444122db",
   "metadata": {},
   "outputs": [],
   "source": [
    "import execnet\n",
    "\n",
    "def execute_in_sandbox(your_code):\n",
    "    gw = execnet.makegateway()  # creates a default Python subprocess\n",
    "    channel = gw.remote_exec(your_code)\n",
    "    return channel.receive()  # get results from the sandboxed code\n",
    "\n",
    "your_code = \"print('Hello from sandbox')\"\n",
    "result = execute_in_sandbox(your_code)\n",
    "print(result)"
   ]
  }
 ],
 "metadata": {
  "kernelspec": {
   "display_name": "Python 3",
   "language": "python",
   "name": "python3"
  },
  "language_info": {
   "codemirror_mode": {
    "name": "ipython",
    "version": 3
   },
   "file_extension": ".py",
   "mimetype": "text/x-python",
   "name": "python",
   "nbconvert_exporter": "python",
   "pygments_lexer": "ipython3",
   "version": "3.12.8"
  }
 },
 "nbformat": 4,
 "nbformat_minor": 5
}