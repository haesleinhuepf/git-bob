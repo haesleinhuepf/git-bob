{
 "cells": [
  {
   "cell_type": "markdown",
   "id": "f8fe72f1",
   "metadata": {},
   "source": [
    "## Demonstrating a Simple For-Loop\n",
    "In this example, we'll use a for-loop to output numbers between 0 and 10."
   ]
  },
  {
   "cell_type": "code",
   "execution_count": 1,
   "id": "e9102248",
   "metadata": {
    "execution": {
     "iopub.execute_input": "2025-01-25T13:47:09.819748Z",
     "iopub.status.busy": "2025-01-25T13:47:09.819748Z",
     "iopub.status.idle": "2025-01-25T13:47:09.824957Z",
     "shell.execute_reply": "2025-01-25T13:47:09.824957Z"
    }
   },
   "outputs": [],
   "source": [
    "# Initialize an empty list to store the numbers\n",
    "numbers = []"
   ]
  },
  {
   "cell_type": "markdown",
   "id": "68066486",
   "metadata": {},
   "source": [
    "### Using a for-loop to iterate over a range of numbers\n",
    "This loop will append numbers between 0 and 10 (inclusive) to the list `numbers`."
   ]
  },
  {
   "cell_type": "code",
   "execution_count": 2,
   "id": "1074f85f",
   "metadata": {
    "execution": {
     "iopub.execute_input": "2025-01-25T13:47:09.827706Z",
     "iopub.status.busy": "2025-01-25T13:47:09.827706Z",
     "iopub.status.idle": "2025-01-25T13:47:09.829811Z",
     "shell.execute_reply": "2025-01-25T13:47:09.829811Z"
    }
   },
   "outputs": [],
   "source": [
    "for i in range(11):\n",
    "    numbers.append(i)"
   ]
  },
  {
   "cell_type": "markdown",
   "id": "33b13bb6",
   "metadata": {},
   "source": [
    "### Inspecting the resulting list\n",
    "Finally, we'll save the resulting list to a `.txt` file so we can verify the output."
   ]
  },
  {
   "cell_type": "code",
   "execution_count": 3,
   "id": "d2299564",
   "metadata": {
    "execution": {
     "iopub.execute_input": "2025-01-25T13:47:09.831857Z",
     "iopub.status.busy": "2025-01-25T13:47:09.831857Z",
     "iopub.status.idle": "2025-01-25T13:47:09.835399Z",
     "shell.execute_reply": "2025-01-25T13:47:09.835399Z"
    }
   },
   "outputs": [],
   "source": [
    "# Save the numbers list to a file for inspection\n",
    "with open('numbers_output.txt', 'w') as f:\n",
    "    for num in numbers:\n",
    "        f.write(f\"{num}\\n\")"
   ]
  }
 ],
 "metadata": {
  "language_info": {
   "codemirror_mode": {
    "name": "ipython",
    "version": 3
   },
   "file_extension": ".py",
   "mimetype": "text/x-python",
   "name": "python",
   "nbconvert_exporter": "python",
   "pygments_lexer": "ipython3",
   "version": "3.11.11"
  }
 },
 "nbformat": 4,
 "nbformat_minor": 5
}
