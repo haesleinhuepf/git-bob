{
 "cells": [
  {
   "cell_type": "markdown",
   "id": "ab332ad6",
   "metadata": {},
   "source": [
    "## Demonstration of a For-Loop\n",
    "In this example, we will use a `for` loop to output numbers between 0 and 10 and save them to a file for inspection."
   ]
  },
  {
   "cell_type": "code",
   "execution_count": 1,
   "id": "7b7aefa8",
   "metadata": {
    "execution": {
     "iopub.execute_input": "2025-01-25T13:53:32.578718Z",
     "iopub.status.busy": "2025-01-25T13:53:32.578391Z",
     "iopub.status.idle": "2025-01-25T13:53:32.588698Z",
     "shell.execute_reply": "2025-01-25T13:53:32.587873Z"
    }
   },
   "outputs": [],
   "source": [
    "# Initialize an empty list to hold the numbers\n",
    "numbers = []"
   ]
  },
  {
   "cell_type": "markdown",
   "id": "a2328bc2",
   "metadata": {},
   "source": [
    "### Use a for-loop to generate numbers\n",
    "We will use a `for` loop to iterate through integers from 0 to 10 and append each number to the list."
   ]
  },
  {
   "cell_type": "code",
   "execution_count": 2,
   "id": "b0ded31d",
   "metadata": {
    "execution": {
     "iopub.execute_input": "2025-01-25T13:53:32.591472Z",
     "iopub.status.busy": "2025-01-25T13:53:32.591016Z",
     "iopub.status.idle": "2025-01-25T13:53:32.594799Z",
     "shell.execute_reply": "2025-01-25T13:53:32.594015Z"
    }
   },
   "outputs": [],
   "source": [
    "# Use a for-loop to iterate through numbers from 0 to 10\n",
    "for i in range(11):\n",
    "    numbers.append(i)"
   ]
  },
  {
   "cell_type": "markdown",
   "id": "88940ee8",
   "metadata": {},
   "source": [
    "### Save the results to a CSV file\n",
    "We save the generated numbers to a CSV file for further inspection."
   ]
  },
  {
   "cell_type": "code",
   "execution_count": 3,
   "id": "9691dd4f",
   "metadata": {
    "execution": {
     "iopub.execute_input": "2025-01-25T13:53:32.597699Z",
     "iopub.status.busy": "2025-01-25T13:53:32.597094Z",
     "iopub.status.idle": "2025-01-25T13:53:39.343523Z",
     "shell.execute_reply": "2025-01-25T13:53:39.342779Z"
    }
   },
   "outputs": [
    {
     "name": "stdout",
     "output_type": "stream",
     "text": [
      "Collecting pandas\r\n"
     ]
    },
    {
     "name": "stdout",
     "output_type": "stream",
     "text": [
      "  Downloading pandas-2.2.3-cp311-cp311-manylinux_2_17_x86_64.manylinux2014_x86_64.whl.metadata (89 kB)\r\n"
     ]
    },
    {
     "name": "stdout",
     "output_type": "stream",
     "text": [
      "Requirement already satisfied: numpy>=1.23.2 in /opt/hostedtoolcache/Python/3.11.11/x64/lib/python3.11/site-packages (from pandas) (2.2.2)\r\n",
      "Requirement already satisfied: python-dateutil>=2.8.2 in /opt/hostedtoolcache/Python/3.11.11/x64/lib/python3.11/site-packages (from pandas) (2.9.0.post0)\r\n"
     ]
    },
    {
     "name": "stdout",
     "output_type": "stream",
     "text": [
      "Collecting pytz>=2020.1 (from pandas)\r\n",
      "  Downloading pytz-2024.2-py2.py3-none-any.whl.metadata (22 kB)\r\n"
     ]
    },
    {
     "name": "stdout",
     "output_type": "stream",
     "text": [
      "Collecting tzdata>=2022.7 (from pandas)\r\n",
      "  Downloading tzdata-2025.1-py2.py3-none-any.whl.metadata (1.4 kB)\r\n",
      "Requirement already satisfied: six>=1.5 in /opt/hostedtoolcache/Python/3.11.11/x64/lib/python3.11/site-packages (from python-dateutil>=2.8.2->pandas) (1.17.0)\r\n",
      "Downloading pandas-2.2.3-cp311-cp311-manylinux_2_17_x86_64.manylinux2014_x86_64.whl (13.1 MB)\r\n",
      "\u001b[?25l"
     ]
    },
    {
     "name": "stdout",
     "output_type": "stream",
     "text": [
      "   \u001b[90m━━━━━━━━━━━━━━━━━━━━━━━━━━━━━━━━━━━━━━━━\u001b[0m \u001b[32m0.0/13.1 MB\u001b[0m \u001b[31m?\u001b[0m eta \u001b[36m-:--:--\u001b[0m"
     ]
    },
    {
     "name": "stdout",
     "output_type": "stream",
     "text": [
      "\r",
      "\u001b[2K   \u001b[91m━━━━━━━━━━━━━━━━━━━━━━━━━━━━━━━━━━━━\u001b[0m\u001b[91m╸\u001b[0m\u001b[90m━━━\u001b[0m \u001b[32m12.1/13.1 MB\u001b[0m \u001b[31m61.7 MB/s\u001b[0m eta \u001b[36m0:00:01\u001b[0m\r",
      "\u001b[2K   \u001b[90m━━━━━━━━━━━━━━━━━━━━━━━━━━━━━━━━━━━━━━━━\u001b[0m \u001b[32m13.1/13.1 MB\u001b[0m \u001b[31m56.4 MB/s\u001b[0m eta \u001b[36m0:00:00\u001b[0m\r\n",
      "\u001b[?25hDownloading pytz-2024.2-py2.py3-none-any.whl (508 kB)\r\n"
     ]
    },
    {
     "name": "stdout",
     "output_type": "stream",
     "text": [
      "Downloading tzdata-2025.1-py2.py3-none-any.whl (346 kB)\r\n"
     ]
    },
    {
     "name": "stdout",
     "output_type": "stream",
     "text": [
      "Installing collected packages: pytz, tzdata, pandas\r\n"
     ]
    },
    {
     "name": "stdout",
     "output_type": "stream",
     "text": [
      "Successfully installed pandas-2.2.3 pytz-2024.2 tzdata-2025.1\r\n"
     ]
    }
   ],
   "source": [
    "!pip install pandas\n",
    "import pandas as pd\n",
    "\n",
    "# Convert the list of numbers into a DataFrame\n",
    "df = pd.DataFrame(numbers, columns=['Number'])\n",
    "\n",
    "# Save the DataFrame to a CSV file\n",
    "df.to_csv('output_numbers.csv', index=False)"
   ]
  }
 ],
 "metadata": {
  "language_info": {
   "codemirror_mode": {
    "name": "ipython",
    "version": 3
   },
   "file_extension": ".py",
   "mimetype": "text/x-python",
   "name": "python",
   "nbconvert_exporter": "python",
   "pygments_lexer": "ipython3",
   "version": "3.11.11"
  }
 },
 "nbformat": 4,
 "nbformat_minor": 5
}
