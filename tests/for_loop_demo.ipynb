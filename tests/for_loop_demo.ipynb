{
 "cells": [
  {
   "cell_type": "markdown",
   "id": "ab332ad6",
   "metadata": {},
   "source": [
    "## Demonstration of a For-Loop\n",
    "In this example, we will use a `for` loop to output numbers between 0 and 10 and save them to a file for inspection."
   ]
  },
  {
   "cell_type": "code",
   "execution_count": 1,
   "id": "7b7aefa8",
   "metadata": {
    "execution": {
     "iopub.execute_input": "2025-01-25T13:53:23.031119Z",
     "iopub.status.busy": "2025-01-25T13:53:23.030850Z",
     "iopub.status.idle": "2025-01-25T13:53:23.040510Z",
     "shell.execute_reply": "2025-01-25T13:53:23.039757Z"
    }
   },
   "outputs": [],
   "source": [
    "# Initialize an empty list to hold the numbers\n",
    "numbers = []"
   ]
  },
  {
   "cell_type": "markdown",
   "id": "a2328bc2",
   "metadata": {},
   "source": [
    "### Use a for-loop to generate numbers\n",
    "We will use a `for` loop to iterate through integers from 0 to 10 and append each number to the list."
   ]
  },
  {
   "cell_type": "code",
   "execution_count": 2,
   "id": "b0ded31d",
   "metadata": {
    "execution": {
     "iopub.execute_input": "2025-01-25T13:53:23.043252Z",
     "iopub.status.busy": "2025-01-25T13:53:23.042806Z",
     "iopub.status.idle": "2025-01-25T13:53:23.046574Z",
     "shell.execute_reply": "2025-01-25T13:53:23.045803Z"
    }
   },
   "outputs": [],
   "source": [
    "# Use a for-loop to iterate through numbers from 0 to 10\n",
    "for i in range(11):\n",
    "    numbers.append(i)"
   ]
  },
  {
   "cell_type": "markdown",
   "id": "88940ee8",
   "metadata": {},
   "source": [
    "### Save the results to a CSV file\n",
    "We save the generated numbers to a CSV file for further inspection."
   ]
  },
  {
   "cell_type": "code",
   "execution_count": 3,
   "id": "9691dd4f",
   "metadata": {
    "execution": {
     "iopub.execute_input": "2025-01-25T13:53:23.049386Z",
     "iopub.status.busy": "2025-01-25T13:53:23.048923Z",
     "iopub.status.idle": "2025-01-25T13:53:23.321857Z",
     "shell.execute_reply": "2025-01-25T13:53:23.320741Z"
    }
   },
   "outputs": [
    {
     "ename": "ModuleNotFoundError",
     "evalue": "No module named 'pandas'",
     "output_type": "error",
     "traceback": [
      "\u001b[0;31m---------------------------------------------------------------------------\u001b[0m",
      "\u001b[0;31mModuleNotFoundError\u001b[0m                       Traceback (most recent call last)",
      "Cell \u001b[0;32mIn[3], line 1\u001b[0m\n\u001b[0;32m----> 1\u001b[0m \u001b[38;5;28;01mimport\u001b[39;00m\u001b[38;5;250m \u001b[39m\u001b[38;5;21;01mpandas\u001b[39;00m\u001b[38;5;250m \u001b[39m\u001b[38;5;28;01mas\u001b[39;00m\u001b[38;5;250m \u001b[39m\u001b[38;5;21;01mpd\u001b[39;00m\n\u001b[1;32m      3\u001b[0m \u001b[38;5;66;03m# Convert the list of numbers into a DataFrame\u001b[39;00m\n\u001b[1;32m      4\u001b[0m df \u001b[38;5;241m=\u001b[39m pd\u001b[38;5;241m.\u001b[39mDataFrame(numbers, columns\u001b[38;5;241m=\u001b[39m[\u001b[38;5;124m'\u001b[39m\u001b[38;5;124mNumber\u001b[39m\u001b[38;5;124m'\u001b[39m])\n",
      "\u001b[0;31mModuleNotFoundError\u001b[0m: No module named 'pandas'"
     ]
    }
   ],
   "source": [
    "import pandas as pd\n",
    "\n",
    "# Convert the list of numbers into a DataFrame\n",
    "df = pd.DataFrame(numbers, columns=['Number'])\n",
    "\n",
    "# Save the DataFrame to a CSV file\n",
    "df.to_csv('output_numbers.csv', index=False)"
   ]
  }
 ],
 "metadata": {
  "language_info": {
   "codemirror_mode": {
    "name": "ipython",
    "version": 3
   },
   "file_extension": ".py",
   "mimetype": "text/x-python",
   "name": "python",
   "nbconvert_exporter": "python",
   "pygments_lexer": "ipython3",
   "version": "3.11.11"
  }
 },
 "nbformat": 4,
 "nbformat_minor": 5
}