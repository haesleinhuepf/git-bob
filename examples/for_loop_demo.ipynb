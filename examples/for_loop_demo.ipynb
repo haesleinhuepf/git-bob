{
 "cells": [
  {
   "cell_type": "markdown",
   "metadata": {},
   "source": [
    "# Demonstrating a For-Loop\n",
    "\n",
    "In this notebook, we'll use a simple `for` loop to iterate and output the numbers between 0 and 10."
   ]
  },
  {
   "cell_type": "markdown",
   "metadata": {},
   "source": [
    "## Step 1: Write a basic for-loop\n",
    "We'll create a `for` loop that iterates over a range of numbers from 0 to 10."
   ]
  },
  {
   "cell_type": "code",
   "execution_count": 1,
   "metadata": {
    "execution": {
     "iopub.execute_input": "2025-01-25T13:40:19.124467Z",
     "iopub.status.busy": "2025-01-25T13:40:19.124467Z",
     "iopub.status.idle": "2025-01-25T13:40:19.129841Z",
     "shell.execute_reply": "2025-01-25T13:40:19.129841Z"
    }
   },
   "outputs": [
    {
     "name": "stdout",
     "output_type": "stream",
     "text": [
      "0\n",
      "1\n",
      "2\n",
      "3\n",
      "4\n",
      "5\n",
      "6\n",
      "7\n",
      "8\n",
      "9\n",
      "10\n"
     ]
    }
   ],
   "source": [
    "# Using range() to generate numbers from 0 to 10\n",
    "for i in range(11):\n",
    "    print(i)  # Output each number in the range"
   ]
  },
  {
   "cell_type": "markdown",
   "metadata": {},
   "source": [
    "## Step 2: Save the results to a text file\n",
    "Instead of only printing the numbers, we'll save them to a file for review."
   ]
  },
  {
   "cell_type": "code",
   "execution_count": 2,
   "metadata": {
    "execution": {
     "iopub.execute_input": "2025-01-25T13:40:19.159043Z",
     "iopub.status.busy": "2025-01-25T13:40:19.159043Z",
     "iopub.status.idle": "2025-01-25T13:40:19.162638Z",
     "shell.execute_reply": "2025-01-25T13:40:19.162638Z"
    }
   },
   "outputs": [],
   "source": [
    "# Prepare the results\n",
    "numbers = [str(i) for i in range(11)]\n",
    "\n",
    "# Save the numbers to a file\n",
    "with open(\"output_numbers.txt\", \"w\") as f:\n",
    "    f.write(\"\\n\".join(numbers))"
   ]
  },
  {
   "cell_type": "markdown",
   "metadata": {},
   "source": [
    "## Step 3: Confirmation\n",
    "Verify that the numbers are saved correctly by loading and printing them back."
   ]
  },
  {
   "cell_type": "code",
   "execution_count": 3,
   "metadata": {
    "execution": {
     "iopub.execute_input": "2025-01-25T13:40:19.165201Z",
     "iopub.status.busy": "2025-01-25T13:40:19.164181Z",
     "iopub.status.idle": "2025-01-25T13:40:19.174392Z",
     "shell.execute_reply": "2025-01-25T13:40:19.174392Z"
    }
   },
   "outputs": [
    {
     "name": "stdout",
     "output_type": "stream",
     "text": [
      "Saved numbers: 0\n",
      "1\n",
      "2\n",
      "3\n",
      "4\n",
      "5\n",
      "6\n",
      "7\n",
      "8\n",
      "9\n",
      "10\n"
     ]
    }
   ],
   "source": [
    "# Read and print the saved numbers\n",
    "with open(\"output_numbers.txt\", \"r\") as f:\n",
    "    saved_numbers = f.read()\n",
    "    print(\"Saved numbers:\", saved_numbers)"
   ]
  }
 ],
 "metadata": {
  "language_info": {
   "codemirror_mode": {
    "name": "ipython",
    "version": 3
   },
   "file_extension": ".py",
   "mimetype": "text/x-python",
   "name": "python",
   "nbconvert_exporter": "python",
   "pygments_lexer": "ipython3",
   "version": "3.11.11"
  }
 },
 "nbformat": 4,
 "nbformat_minor": 4
}
