{
 "cells": [
  {
   "cell_type": "markdown",
   "id": "13285cab",
   "metadata": {},
   "source": [
    "# Sigmoid Function Plot\n",
    "\n",
    "In this notebook, we will plot a sigmoid function using Python's `matplotlib` library."
   ]
  },
  {
   "cell_type": "markdown",
   "id": "36f88dad",
   "metadata": {},
   "source": [
    "## Import Libraries\n",
    "\n",
    "First, we need to import the necessary libraries."
   ]
  },
  {
   "cell_type": "code",
   "execution_count": 1,
   "id": "c9cbf64a",
   "metadata": {
    "execution": {
     "iopub.execute_input": "2024-10-12T08:44:11.034123Z",
     "iopub.status.busy": "2024-10-12T08:44:11.033117Z",
     "iopub.status.idle": "2024-10-12T08:44:11.414710Z",
     "shell.execute_reply": "2024-10-12T08:44:11.414710Z"
    }
   },
   "outputs": [],
   "source": [
    "import numpy as np\n",
    "import matplotlib.pyplot as plt"
   ]
  },
  {
   "cell_type": "markdown",
   "id": "74176d97",
   "metadata": {},
   "source": [
    "## Define the Sigmoid Function\n",
    "\n",
    "Next, let's define the sigmoid function we want to plot."
   ]
  },
  {
   "cell_type": "code",
   "execution_count": 2,
   "id": "24936782",
   "metadata": {
    "execution": {
     "iopub.execute_input": "2024-10-12T08:44:11.417224Z",
     "iopub.status.busy": "2024-10-12T08:44:11.417224Z",
     "iopub.status.idle": "2024-10-12T08:44:11.419816Z",
     "shell.execute_reply": "2024-10-12T08:44:11.419816Z"
    }
   },
   "outputs": [],
   "source": [
    "def sigmoid(x):\n",
    "    return 1 / (1 + np.exp(-x))"
   ]
  },
  {
   "cell_type": "markdown",
   "id": "e1b45746",
   "metadata": {},
   "source": [
    "## Generate Data\n",
    "\n",
    "Generate the data points over which the sigmoid function will be plotted."
   ]
  },
  {
   "cell_type": "code",
   "execution_count": 3,
   "id": "45435c85",
   "metadata": {
    "execution": {
     "iopub.execute_input": "2024-10-12T08:44:11.420822Z",
     "iopub.status.busy": "2024-10-12T08:44:11.420822Z",
     "iopub.status.idle": "2024-10-12T08:44:11.423416Z",
     "shell.execute_reply": "2024-10-12T08:44:11.423280Z"
    }
   },
   "outputs": [],
   "source": [
    "x = np.linspace(-10, 10, 100)\n",
    "y = sigmoid(x)"
   ]
  },
  {
   "cell_type": "markdown",
   "id": "188be326",
   "metadata": {},
   "source": [
    "## Plot the Sigmoid Function\n",
    "\n",
    "Now, let's create and save the plot."
   ]
  },
  {
   "cell_type": "code",
   "execution_count": 4,
   "id": "af2d8e5d",
   "metadata": {
    "execution": {
     "iopub.execute_input": "2024-10-12T08:44:11.424424Z",
     "iopub.status.busy": "2024-10-12T08:44:11.424424Z",
     "iopub.status.idle": "2024-10-12T08:44:11.510991Z",
     "shell.execute_reply": "2024-10-12T08:44:11.510991Z"
    }
   },
   "outputs": [],
   "source": [
    "plt.figure(figsize=(8, 6))\n",
    "plt.plot(x, y, label='Sigmoid Function')\n",
    "plt.title('Sigmoid Function Plot')\n",
    "plt.xlabel('x')\n",
    "plt.ylabel('sigmoid(x)')\n",
    "plt.legend()\n",
    "plt.grid(True)\n",
    "plt.savefig('sigmoid_plot.png')\n",
    "plt.close()"
   ]
  }
 ],
 "metadata": {
  "language_info": {
   "codemirror_mode": {
    "name": "ipython",
    "version": 3
   },
   "file_extension": ".py",
   "mimetype": "text/x-python",
   "name": "python",
   "nbconvert_exporter": "python",
   "pygments_lexer": "ipython3",
   "version": "3.11.10"
  }
 },
 "nbformat": 4,
 "nbformat_minor": 5
}
