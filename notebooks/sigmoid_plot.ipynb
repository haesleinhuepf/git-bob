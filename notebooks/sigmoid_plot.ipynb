{
 "cells": [
  {
   "cell_type": "markdown",
   "metadata": {},
   "source": [
    "# Plot a Sigmoid Function\n",
    "\n",
    "In this notebook, we will plot a sigmoid function using NumPy and Matplotlib. The sigmoid function is a common activation function used in machine learning."
   ]
  },
  {
   "cell_type": "markdown",
   "metadata": {},
   "source": [
    "## Import Required Libraries\n",
    "\n",
    "First, we need to import the necessary libraries. NumPy will help us with numerical operations and Matplotlib for plotting."
   ]
  },
  {
   "cell_type": "code",
   "execution_count": 1,
   "metadata": {
    "execution": {
     "iopub.execute_input": "2024-10-12T08:29:33.070355Z",
     "iopub.status.busy": "2024-10-12T08:29:33.070355Z",
     "iopub.status.idle": "2024-10-12T08:29:33.452785Z",
     "shell.execute_reply": "2024-10-12T08:29:33.452785Z"
    }
   },
   "outputs": [],
   "source": [
    "import numpy as np\n",
    "import matplotlib.pyplot as plt"
   ]
  },
  {
   "cell_type": "markdown",
   "metadata": {},
   "source": [
    "## Define the Sigmoid Function\n",
    "\n",
    "The sigmoid function is defined as $sigmoid(x) = \\frac{1}{1 + e^{-x}}$. We will define this function in Python."
   ]
  },
  {
   "cell_type": "code",
   "execution_count": 2,
   "metadata": {
    "execution": {
     "iopub.execute_input": "2024-10-12T08:29:33.455131Z",
     "iopub.status.busy": "2024-10-12T08:29:33.455131Z",
     "iopub.status.idle": "2024-10-12T08:29:33.458027Z",
     "shell.execute_reply": "2024-10-12T08:29:33.458027Z"
    }
   },
   "outputs": [],
   "source": [
    "def sigmoid(x):\n",
    "    return 1 / (1 + np.exp(-x))"
   ]
  },
  {
   "cell_type": "markdown",
   "metadata": {},
   "source": [
    "## Generate Data\n",
    "\n",
    "Next, we generate a range of x values and compute the corresponding y values using our sigmoid function."
   ]
  },
  {
   "cell_type": "code",
   "execution_count": 3,
   "metadata": {
    "execution": {
     "iopub.execute_input": "2024-10-12T08:29:33.460031Z",
     "iopub.status.busy": "2024-10-12T08:29:33.460031Z",
     "iopub.status.idle": "2024-10-12T08:29:33.462238Z",
     "shell.execute_reply": "2024-10-12T08:29:33.462238Z"
    }
   },
   "outputs": [],
   "source": [
    "x = np.linspace(-10, 10, 100)\n",
    "y = sigmoid(x)"
   ]
  },
  {
   "cell_type": "markdown",
   "metadata": {},
   "source": [
    "## Plot the Sigmoid Function\n",
    "\n",
    "Now, we will plot the sigmoid function using Matplotlib and save the plot as `sigmoid_plot.png`."
   ]
  },
  {
   "cell_type": "code",
   "execution_count": 4,
   "metadata": {
    "execution": {
     "iopub.execute_input": "2024-10-12T08:29:33.463242Z",
     "iopub.status.busy": "2024-10-12T08:29:33.463242Z",
     "iopub.status.idle": "2024-10-12T08:29:33.544049Z",
     "shell.execute_reply": "2024-10-12T08:29:33.543730Z"
    }
   },
   "outputs": [],
   "source": [
    "plt.figure(figsize=(8, 6))\n",
    "plt.plot(x, y, label='Sigmoid Function')\n",
    "plt.title('Sigmoid Function Plot')\n",
    "plt.xlabel('x')\n",
    "plt.ylabel('sigmoid(x)')\n",
    "plt.legend()\n",
    "plt.grid(True)\n",
    "plt.savefig('sigmoid_plot.png')\n",
    "plt.close()"
   ]
  }
 ],
 "metadata": {
  "language_info": {
   "codemirror_mode": {
    "name": "ipython",
    "version": 3
   },
   "file_extension": ".py",
   "mimetype": "text/x-python",
   "name": "python",
   "nbconvert_exporter": "python",
   "pygments_lexer": "ipython3",
   "version": "3.11.10"
  }
 },
 "nbformat": 4,
 "nbformat_minor": 2
}
