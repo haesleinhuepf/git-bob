{
 "cells": [
  {
   "cell_type": "markdown",
   "id": "bf181c88",
   "metadata": {},
   "source": [
    "# Sigmoid Function Plot\n",
    "\n",
    "In this notebook, we will plot the sigmoid function using Python's `matplotlib` and `numpy` libraries. We will go through the process step-by-step."
   ]
  },
  {
   "cell_type": "markdown",
   "id": "c437e317",
   "metadata": {},
   "source": [
    "## Import Libraries\n",
    "\n",
    "First, we need to import the necessary libraries."
   ]
  },
  {
   "cell_type": "code",
   "execution_count": 1,
   "id": "7e13486b",
   "metadata": {
    "execution": {
     "iopub.execute_input": "2024-10-12T08:37:26.680365Z",
     "iopub.status.busy": "2024-10-12T08:37:26.680365Z",
     "iopub.status.idle": "2024-10-12T08:37:27.021389Z",
     "shell.execute_reply": "2024-10-12T08:37:27.021389Z"
    }
   },
   "outputs": [],
   "source": [
    "import numpy as np\n",
    "import matplotlib.pyplot as plt"
   ]
  },
  {
   "cell_type": "markdown",
   "id": "fdee6745",
   "metadata": {},
   "source": [
    "## Define Sigmoid Function\n",
    "\n",
    "Next, we define the sigmoid function. The sigmoid function is given by the formula:\n",
    "\\[\n",
    "S(x) = \\frac{1}{1 + e^{-x}}\n",
    "\\]"
   ]
  },
  {
   "cell_type": "code",
   "execution_count": 2,
   "id": "aed6a87a",
   "metadata": {
    "execution": {
     "iopub.execute_input": "2024-10-12T08:37:27.023816Z",
     "iopub.status.busy": "2024-10-12T08:37:27.023816Z",
     "iopub.status.idle": "2024-10-12T08:37:27.026628Z",
     "shell.execute_reply": "2024-10-12T08:37:27.026628Z"
    }
   },
   "outputs": [],
   "source": [
    "def sigmoid(x):\n",
    "    return 1 / (1 + np.exp(-x))"
   ]
  },
  {
   "cell_type": "markdown",
   "id": "6781dfe0",
   "metadata": {},
   "source": [
    "## Generate Data\n",
    "\n",
    "Generate a range of x values for which we will compute the sigmoid function."
   ]
  },
  {
   "cell_type": "code",
   "execution_count": 3,
   "id": "457e659e",
   "metadata": {
    "execution": {
     "iopub.execute_input": "2024-10-12T08:37:27.028633Z",
     "iopub.status.busy": "2024-10-12T08:37:27.028633Z",
     "iopub.status.idle": "2024-10-12T08:37:27.030577Z",
     "shell.execute_reply": "2024-10-12T08:37:27.030577Z"
    }
   },
   "outputs": [],
   "source": [
    "x = np.linspace(-10, 10, 100)\n",
    "y = sigmoid(x)"
   ]
  },
  {
   "cell_type": "markdown",
   "id": "5fe06e5d",
   "metadata": {},
   "source": [
    "## Plot the Sigmoid Function\n",
    "\n",
    "Now, let's plot the computed sigmoid function and save the plot as a PNG image."
   ]
  },
  {
   "cell_type": "code",
   "execution_count": 4,
   "id": "056d2434",
   "metadata": {
    "execution": {
     "iopub.execute_input": "2024-10-12T08:37:27.032086Z",
     "iopub.status.busy": "2024-10-12T08:37:27.032086Z",
     "iopub.status.idle": "2024-10-12T08:37:27.115669Z",
     "shell.execute_reply": "2024-10-12T08:37:27.115669Z"
    }
   },
   "outputs": [],
   "source": [
    "plt.figure(figsize=(8, 6))\n",
    "plt.plot(x, y, label='Sigmoid Function')\n",
    "plt.title('Sigmoid Function Plot')\n",
    "plt.xlabel('x')\n",
    "plt.ylabel('sigmoid(x)')\n",
    "plt.legend()\n",
    "plt.grid(True)\n",
    "# Save plot\n",
    "plt.savefig('sigmoid_function_plot.png')\n",
    "plt.close()"
   ]
  }
 ],
 "metadata": {
  "language_info": {
   "codemirror_mode": {
    "name": "ipython",
    "version": 3
   },
   "file_extension": ".py",
   "mimetype": "text/x-python",
   "name": "python",
   "nbconvert_exporter": "python",
   "pygments_lexer": "ipython3",
   "version": "3.11.10"
  }
 },
 "nbformat": 4,
 "nbformat_minor": 5
}
