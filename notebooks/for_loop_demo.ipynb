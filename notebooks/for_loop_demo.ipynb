{
 "cells": [
  {
   "cell_type": "markdown",
   "id": "0424bea2",
   "metadata": {},
   "source": [
    "# Demonstrating a For-Loop in Python\n",
    "This notebook demonstrates how to use a simple for-loop to output numbers between 0 and 10 (inclusive)."
   ]
  },
  {
   "cell_type": "markdown",
   "id": "1bdb5098",
   "metadata": {},
   "source": [
    "## Step 1: Initialize and Write a For-Loop\n",
    "We'll use a for-loop to iterate through numbers starting from 0 to 10."
   ]
  },
  {
   "cell_type": "code",
   "execution_count": 1,
   "id": "1cccf191",
   "metadata": {
    "execution": {
     "iopub.execute_input": "2025-01-25T14:02:52.637132Z",
     "iopub.status.busy": "2025-01-25T14:02:52.636478Z",
     "iopub.status.idle": "2025-01-25T14:02:52.642744Z",
     "shell.execute_reply": "2025-01-25T14:02:52.642744Z"
    }
   },
   "outputs": [
    {
     "name": "stdout",
     "output_type": "stream",
     "text": [
      "0\n",
      "1\n",
      "2\n",
      "3\n",
      "4\n",
      "5\n",
      "6\n",
      "7\n",
      "8\n",
      "9\n",
      "10\n"
     ]
    }
   ],
   "source": [
    "# Using a for-loop to print numbers between 0 and 10\n",
    "for i in range(11):\n",
    "    print(i)"
   ]
  },
  {
   "cell_type": "markdown",
   "id": "db953b9d",
   "metadata": {},
   "source": [
    "## Step 2: Save the Output to a File\n",
    "Instead of printing the numbers, we'll save them to a text file named `output_numbers.txt`."
   ]
  },
  {
   "cell_type": "code",
   "execution_count": 2,
   "id": "9f559f77",
   "metadata": {
    "execution": {
     "iopub.execute_input": "2025-01-25T14:02:52.644318Z",
     "iopub.status.busy": "2025-01-25T14:02:52.644318Z",
     "iopub.status.idle": "2025-01-25T14:02:52.648280Z",
     "shell.execute_reply": "2025-01-25T14:02:52.648280Z"
    }
   },
   "outputs": [],
   "source": [
    "# Writing the numbers to a file\n",
    "with open(\"output_numbers.txt\", \"w\") as file:\n",
    "    for i in range(11):\n",
    "        file.write(f\"{i}\\n\")"
   ]
  },
  {
   "cell_type": "markdown",
   "id": "944c053a",
   "metadata": {},
   "source": [
    "## Step 3: Ensure File Output\n",
    "You can check the contents of the `output_numbers.txt` file after running this notebook."
   ]
  }
 ],
 "metadata": {
  "language_info": {
   "codemirror_mode": {
    "name": "ipython",
    "version": 3
   },
   "file_extension": ".py",
   "mimetype": "text/x-python",
   "name": "python",
   "nbconvert_exporter": "python",
   "pygments_lexer": "ipython3",
   "version": "3.11.11"
  }
 },
 "nbformat": 4,
 "nbformat_minor": 5
}
