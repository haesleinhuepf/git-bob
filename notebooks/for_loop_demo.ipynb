{
 "cells": [
  {
   "cell_type": "markdown",
   "id": "54d87630",
   "metadata": {},
   "source": [
    "# Demonstrating a Simple For-Loop\n",
    "\n",
    "In this notebook, we will demonstrate a for-loop that outputs numbers from 0 to 10, step-by-step. For-loops are a fundamental part of programming, and this example will show how they can be used for iteration."
   ]
  },
  {
   "cell_type": "markdown",
   "id": "d47e96a7",
   "metadata": {},
   "source": [
    "## Step 1: Setting up a simple range\n",
    "The range function is used to generate a sequence of numbers. Let's see how it works."
   ]
  },
  {
   "cell_type": "code",
   "execution_count": 1,
   "id": "b1ca7496",
   "metadata": {
    "execution": {
     "iopub.execute_input": "2025-01-25T13:50:27.188481Z",
     "iopub.status.busy": "2025-01-25T13:50:27.188481Z",
     "iopub.status.idle": "2025-01-25T13:50:27.193454Z",
     "shell.execute_reply": "2025-01-25T13:50:27.193454Z"
    }
   },
   "outputs": [
    {
     "name": "stdout",
     "output_type": "stream",
     "text": [
      "[0, 1, 2, 3, 4, 5, 6, 7, 8, 9, 10]\n"
     ]
    }
   ],
   "source": [
    "# Generate a range of numbers from 0 to 10 (inclusive of 0, exclusive of 11):\n",
    "numbers = range(0, 11)  # The range stops at 11, so 10 is included\n",
    "numbers_list = list(numbers)  # Convert to a list for easier inspection\n",
    "print(numbers_list)  # We'll inspect the generated range here"
   ]
  },
  {
   "cell_type": "markdown",
   "id": "20865d6e",
   "metadata": {},
   "source": [
    "## Step 2: Iterating using a for-loop\n",
    "We will now use a for-loop to iterate through the range and print each number. This is where for-loops shine in iterating over sequences."
   ]
  },
  {
   "cell_type": "code",
   "execution_count": 2,
   "id": "e82d372f",
   "metadata": {
    "execution": {
     "iopub.execute_input": "2025-01-25T13:50:27.195969Z",
     "iopub.status.busy": "2025-01-25T13:50:27.194965Z",
     "iopub.status.idle": "2025-01-25T13:50:27.198471Z",
     "shell.execute_reply": "2025-01-25T13:50:27.198471Z"
    }
   },
   "outputs": [
    {
     "name": "stdout",
     "output_type": "stream",
     "text": [
      "0\n",
      "1\n",
      "2\n",
      "3\n",
      "4\n",
      "5\n",
      "6\n",
      "7\n",
      "8\n",
      "9\n",
      "10\n"
     ]
    }
   ],
   "source": [
    "# Iterate through the range and output each number:\n",
    "for number in numbers:\n",
    "    print(number)  # Print numbers between 0 and 10"
   ]
  },
  {
   "cell_type": "markdown",
   "id": "6b0cbf1c",
   "metadata": {},
   "source": [
    "## Step 3: Saving results to a file\n",
    "Finally, let's save the output numbers to a text file so we can inspect them later if needed. In Python, this can be done using standard file I/O."
   ]
  },
  {
   "cell_type": "code",
   "execution_count": 3,
   "id": "aff54bcf",
   "metadata": {
    "execution": {
     "iopub.execute_input": "2025-01-25T13:50:27.200477Z",
     "iopub.status.busy": "2025-01-25T13:50:27.199475Z",
     "iopub.status.idle": "2025-01-25T13:50:27.202885Z",
     "shell.execute_reply": "2025-01-25T13:50:27.202885Z"
    }
   },
   "outputs": [],
   "source": [
    "# Save the list of numbers to a file:\n",
    "with open(\"output_numbers.txt\", \"w\") as file:\n",
    "    for number in numbers:\n",
    "        file.write(f\"{number}\\n\")  # Write each number as a new line"
   ]
  },
  {
   "cell_type": "markdown",
   "id": "1af42433",
   "metadata": {},
   "source": [
    "## Summary\n",
    "In this notebook, we:\n",
    "- Generated a range of numbers from 0 to 10 using the `range` function\n",
    "- Used a for-loop to iterate over and print these numbers\n",
    "- Saved the output to a text file (`output_numbers.txt`) for reference"
   ]
  }
 ],
 "metadata": {
  "language_info": {
   "codemirror_mode": {
    "name": "ipython",
    "version": 3
   },
   "file_extension": ".py",
   "mimetype": "text/x-python",
   "name": "python",
   "nbconvert_exporter": "python",
   "pygments_lexer": "ipython3",
   "version": "3.11.11"
  }
 },
 "nbformat": 4,
 "nbformat_minor": 5
}
