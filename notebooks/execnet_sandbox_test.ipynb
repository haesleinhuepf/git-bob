{
 "cells": [
  {
   "cell_type": "markdown",
   "id": "cfbb053c",
   "metadata": {},
   "source": [
    "# Sandbox Execution with `execnet`\n",
    "\n",
    "This notebook demonstrates how to execute Python code securely within a sandbox using the `execnet` library. The process involves setting up an isolated environment where the code can be executed."
   ]
  },
  {
   "cell_type": "markdown",
   "id": "7e8c5e71",
   "metadata": {},
   "source": [
    "## Installing execnet\n",
    "\n",
    "First, we need to install the `execnet` library. Execute the following cell to install it."
   ]
  },
  {
   "cell_type": "code",
   "execution_count": 1,
   "id": "079ba79f",
   "metadata": {
    "execution": {
     "iopub.execute_input": "2024-12-15T19:08:55.169147Z",
     "iopub.status.busy": "2024-12-15T19:08:55.168975Z",
     "iopub.status.idle": "2024-12-15T19:08:56.095997Z",
     "shell.execute_reply": "2024-12-15T19:08:56.095427Z"
    }
   },
   "outputs": [
    {
     "name": "stdout",
     "output_type": "stream",
     "text": [
      "Collecting execnet\r\n"
     ]
    },
    {
     "name": "stdout",
     "output_type": "stream",
     "text": [
      "  Downloading execnet-2.1.1-py3-none-any.whl.metadata (2.9 kB)\r\n",
      "Downloading execnet-2.1.1-py3-none-any.whl (40 kB)\r\n"
     ]
    },
    {
     "name": "stdout",
     "output_type": "stream",
     "text": [
      "Installing collected packages: execnet\r\n"
     ]
    },
    {
     "name": "stdout",
     "output_type": "stream",
     "text": [
      "Successfully installed execnet-2.1.1\r\n"
     ]
    }
   ],
   "source": [
    "!pip install execnet"
   ]
  },
  {
   "cell_type": "markdown",
   "id": "7abc6517",
   "metadata": {},
   "source": [
    "## Setting Up the Sandbox Environment\n",
    "\n",
    "The following code creates an execution environment using `execnet` where Python code can be run."
   ]
  },
  {
   "cell_type": "code",
   "execution_count": 2,
   "id": "a500060b",
   "metadata": {
    "execution": {
     "iopub.execute_input": "2024-12-15T19:08:56.098005Z",
     "iopub.status.busy": "2024-12-15T19:08:56.097819Z",
     "iopub.status.idle": "2024-12-15T19:08:56.105221Z",
     "shell.execute_reply": "2024-12-15T19:08:56.104815Z"
    }
   },
   "outputs": [],
   "source": [
    "import execnet\n",
    "\n",
    "def execute_in_sandbox(code_to_run):\n",
    "    gw = execnet.makegateway()  # Creates a default Python subprocess\n",
    "    channel = gw.remote_exec(code_to_run)\n",
    "    return channel.receive()  # Get results from the sandboxed code"
   ]
  },
  {
   "cell_type": "markdown",
   "id": "3c58d641",
   "metadata": {},
   "source": [
    "## Executing Python Code in the Sandbox\n",
    "\n",
    "Now, let's execute a sample Python code that prints messages from within the sandbox. This code will run in isolation and return the result."
   ]
  },
  {
   "cell_type": "code",
   "execution_count": 3,
   "id": "cfeaab4c",
   "metadata": {
    "execution": {
     "iopub.execute_input": "2024-12-15T19:08:56.106852Z",
     "iopub.status.busy": "2024-12-15T19:08:56.106664Z",
     "iopub.status.idle": "2024-12-15T19:08:56.151519Z",
     "shell.execute_reply": "2024-12-15T19:08:56.150972Z"
    }
   },
   "outputs": [
    {
     "data": {
      "text/plain": [
       "'Hello from sandbox'"
      ]
     },
     "execution_count": 3,
     "metadata": {},
     "output_type": "execute_result"
    }
   ],
   "source": [
    "sandbox_code = \"\"\"\n",
    "def greet():\n",
    "    return 'Hello from sandbox'\n",
    "channel.send(greet())\n",
    "\"\"\"\n",
    "\n",
    "result = execute_in_sandbox(sandbox_code)\n",
    "result"
   ]
  },
  {
   "cell_type": "markdown",
   "id": "74ce771f",
   "metadata": {},
   "source": [
    "## Saving the Result\n",
    "\n",
    "Finally, we save the returned message from the sandbox execution into a text file for further inspection."
   ]
  },
  {
   "cell_type": "code",
   "execution_count": 4,
   "id": "199520b2",
   "metadata": {
    "execution": {
     "iopub.execute_input": "2024-12-15T19:08:56.153383Z",
     "iopub.status.busy": "2024-12-15T19:08:56.153052Z",
     "iopub.status.idle": "2024-12-15T19:08:56.155880Z",
     "shell.execute_reply": "2024-12-15T19:08:56.155421Z"
    }
   },
   "outputs": [],
   "source": [
    "with open(\"sandbox_result.txt\", \"w\") as file:\n",
    "    file.write(result)"
   ]
  }
 ],
 "metadata": {
  "language_info": {
   "codemirror_mode": {
    "name": "ipython",
    "version": 3
   },
   "file_extension": ".py",
   "mimetype": "text/x-python",
   "name": "python",
   "nbconvert_exporter": "python",
   "pygments_lexer": "ipython3",
   "version": "3.12.8"
  }
 },
 "nbformat": 4,
 "nbformat_minor": 5
}
